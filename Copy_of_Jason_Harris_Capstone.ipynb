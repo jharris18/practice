{
  "nbformat": 4,
  "nbformat_minor": 0,
  "metadata": {
    "colab": {
      "name": "Copy of Jason_Harris_Capstone.ipynb",
      "provenance": [],
      "collapsed_sections": [],
      "authorship_tag": "ABX9TyM9LFDqMjd8iTkjnQeyZffk",
      "include_colab_link": true
    },
    "kernelspec": {
      "name": "python3",
      "display_name": "Python 3"
    }
  },
  "cells": [
    {
      "cell_type": "markdown",
      "metadata": {
        "id": "view-in-github",
        "colab_type": "text"
      },
      "source": [
        "<a href=\"https://colab.research.google.com/github/jharris18/practice/blob/master/Copy_of_Jason_Harris_Capstone.ipynb\" target=\"_parent\"><img src=\"https://colab.research.google.com/assets/colab-badge.svg\" alt=\"Open In Colab\"/></a>"
      ]
    },
    {
      "cell_type": "markdown",
      "metadata": {
        "id": "SftWYoLGoTjV"
      },
      "source": [
        "## **Police Shootings in the United States**"
      ]
    },
    {
      "cell_type": "markdown",
      "metadata": {
        "id": "fyMKPK2JNbxn"
      },
      "source": [
        "# **1. Problem Statement:**\n",
        "\n",
        "The issue of racial bias within the police system in the United States has been a widely discussed and controversial issue. Death from Police violence has been claimed to be a leading cause of death for minorities in the United States. In order to obtain a clear understanding of the issue, we must see if race is the primary component of police killings or if there are other factors that might be the primary causes or catalysts for police shootings. Using publicly available data, I will identify factors that were involved with the deaths of citizens from police officers in the United States and identify any possible correlations or causal factors that lead to police shootings.\n"
      ]
    },
    {
      "cell_type": "markdown",
      "metadata": {
        "id": "bLBV--vpNhXV"
      },
      "source": [
        "# **2. Hypothesis:**\n",
        "\n",
        "Taking into account historical reports and current observations of what appear to be racially motivated incidents involving the police, I expect to see some kind of relationship between the death of minorities and police shootings. I suspect African Americans will have the higher death rates when compared to whites and the other racial minority groups in the United States.\n"
      ]
    },
    {
      "cell_type": "markdown",
      "metadata": {
        "id": "lyEvdnw1Nrie"
      },
      "source": [
        "# **3. Description of the data set:**\n",
        "\n",
        "In 2015, The Washington Post began to log every fatal shooting by an on-duty police officer in the United States. The Post began tracking more than a dozen details about each killing including the race of the deceased, the circumstances of the shooting, whether the person was armed and whether the victim was experiencing a mental-health crisis. The Post examined local news reports, law enforcement websites and social media. They also monitored independent databases such as Killed by Police and Fatal Encounters. This data set contains data from January 2015 to August 2020."
      ]
    },
    {
      "cell_type": "markdown",
      "metadata": {
        "id": "6IbJwXzPNyJk"
      },
      "source": [
        "# **4. Data Dictionary**\n",
        "\n",
        "id- unique identifier for each victim\n",
        "\n",
        "name- the name of the victim\n",
        "\n",
        "date- the date of the fatal shooting in YYYY-MM-DD format\n",
        "\n",
        "manner_of_death- shot or shot and tasered\n",
        "\n",
        "armed- indicates that the victim was armed with some sort of implement that a police officer believed could inflict harm\n",
        "\n",
        "age- the age of the victim\n",
        "\n",
        "gender- the gender of the victim.The Post identifies victims by the gender they identify with if reports indicate that it   differs from their biological sex.\n",
        "\n",
        "race- race of the victim\n",
        "\n",
        "city- the municipality where the fatal shooting took place. Note that in some cases this field may contain a county name if a more specific municipality is unavailable or unknown.\n",
        "\n",
        "state- two-letter postal code abbreviation\n",
        "\n",
        "signs_of_mental _illness- News reports have indicated the victim had a history of mental health issues, expressed suicidal intentions or was experiencing mental distress at the time of the shooting.\n",
        "\n",
        "threat_level- The threat_level column was used to flag incidents for the story by Amy Brittain in October 2015. http://www.washingtonpost.com/sf/investigative/2015/10/24/on-duty-under-fire/ As described in the story, the general criteria for the attack label was that there was the most direct and immediate threat to life. That would include incidents where officers or others were shot at, threatened with a gun, attacked with other weapons or physical force, etc. The attack category is meant to flag the highest level of threat. The other and undetermined categories represent all remaining cases. Other includes many incidents where officers or others faced significant threats.\n",
        "\n",
        "flee- News reports have indicated the victim was moving away from officers\n",
        "\n",
        "body_camera- News reports have indicated an officer was wearing a body camera and it may have recorded some portion of the incident."
      ]
    },
    {
      "cell_type": "markdown",
      "metadata": {
        "id": "irjyYOhdj2ni"
      },
      "source": [
        "# **Choosing the Variables**\n",
        "\n",
        "During the initial analysis of the dataset, I identified the following attributes as being unnecessary for the goals of this project. The “id” and “name” were unnecessary, as there were unlikely to be any correlation between police shootings and the id or name of the subjects. I also dropped the “date” column, for I didn’t intend to do any time involved analysis for shootings. I merely only wished to identify specific factors such as race or weapons that led to deaths from police shootings. Lastly, I dropped the city column and focused primarily on the state column with the belief that the whole state would represent an average of the individual cities. The remaining attributes were factors that I believed would possibly affect an officer’s judgement to use deadly force, and thus were the final attributes for the data set. "
      ]
    },
    {
      "cell_type": "markdown",
      "metadata": {
        "id": "YB4O7N76ODfB"
      },
      "source": [
        "# **5. Data wrangling and cleaning:** \n",
        "\n",
        "The data was saved locally on my system after being downloaded from Kaggle. I accessed the data in Jupyter notebook utilizing the import feature in Pandas. I identified attributes that I deemed unnecessary for the goals of this analysis and I dropped those attributes using  drop function in Pandas.  I then used the replace function in Pandas to change the race labels from A, B, W, H, O, and N to Asian, Black, White, Hispanic, Other, and Native American. Lastly, I created a dataframe to show the columns that contained NaN values. I then used the dropna function to drop the NaN rows. "
      ]
    },
    {
      "cell_type": "code",
      "metadata": {
        "id": "Zu4SGm37Oqsj"
      },
      "source": [
        "from google.colab import files\n",
        "uploaded = files.upload()"
      ],
      "execution_count": null,
      "outputs": []
    },
    {
      "cell_type": "markdown",
      "metadata": {
        "id": "Wc8-4NXKOMFp"
      },
      "source": [
        "## 6. Explore the Data**"
      ]
    },
    {
      "cell_type": "code",
      "metadata": {
        "id": "YT3yjRCSOUij"
      },
      "source": [
        "#import packages and data\n",
        "import pandas as pd\n",
        "%matplotlib inline\n",
        "import matplotlib\n",
        "import numpy as np\n",
        "import seaborn as sns\n",
        "import matplotlib.pyplot as plt\n",
        "plt.style.use('ggplot')\n",
        "plt.rcParams['figure.figsize'] = (8, 6)\n",
        "plt.rcParams['font.size'] = 14\n",
        "from pandas.plotting import scatter_matrix\n",
        "from matplotlib.pyplot import figure, show\n",
        "from pandas import set_option\n",
        "#shootings_df = pd.read_csv('C:\\Users\\jason\\shootings_wash_post.csv')   \n",
        "shootings_df = pd.read_csv('shootings_wash_post.csv') "
      ],
      "execution_count": null,
      "outputs": []
    },
    {
      "cell_type": "code",
      "metadata": {
        "id": "VHHzmXiDQ9MS",
        "colab": {
          "base_uri": "https://localhost:8080/",
          "height": 101
        },
        "outputId": "2febc2bf-a627-4772-e8fb-d125882ce44f"
      },
      "source": [
        "pip install \"pandas==1.0.3\" --user"
      ],
      "execution_count": null,
      "outputs": [
        {
          "output_type": "stream",
          "text": [
            "Requirement already satisfied: pandas==1.0.3 in /root/.local/lib/python3.6/site-packages (1.0.3)\n",
            "Requirement already satisfied: numpy>=1.13.3 in /usr/local/lib/python3.6/dist-packages (from pandas==1.0.3) (1.18.5)\n",
            "Requirement already satisfied: pytz>=2017.2 in /usr/local/lib/python3.6/dist-packages (from pandas==1.0.3) (2018.9)\n",
            "Requirement already satisfied: python-dateutil>=2.6.1 in /usr/local/lib/python3.6/dist-packages (from pandas==1.0.3) (2.8.1)\n",
            "Requirement already satisfied: six>=1.5 in /usr/local/lib/python3.6/dist-packages (from python-dateutil>=2.6.1->pandas==1.0.3) (1.15.0)\n"
          ],
          "name": "stdout"
        }
      ]
    },
    {
      "cell_type": "markdown",
      "metadata": {
        "id": "p2DFEJzTkrlx"
      },
      "source": [
        "**The data has 5552 rows and 14 columns**"
      ]
    },
    {
      "cell_type": "code",
      "metadata": {
        "id": "JzGUR1onRKmN",
        "colab": {
          "base_uri": "https://localhost:8080/",
          "height": 34
        },
        "outputId": "58567475-505b-4f1a-a888-325bf137c26d"
      },
      "source": [
        "# Data shape 5552 rows and 14 columns\n",
        "shootings_df.shape"
      ],
      "execution_count": null,
      "outputs": [
        {
          "output_type": "execute_result",
          "data": {
            "text/plain": [
              "(5552, 14)"
            ]
          },
          "metadata": {
            "tags": []
          },
          "execution_count": 56
        }
      ]
    },
    {
      "cell_type": "code",
      "metadata": {
        "id": "0QgaW1KHRP9P",
        "colab": {
          "base_uri": "https://localhost:8080/",
          "height": 195
        },
        "outputId": "c535c1f5-e253-4c4c-ec23-804543db0b7a"
      },
      "source": [
        "# Glance at the data\n",
        "set_option('display.max_columns', None)\n",
        "shootings_df.head(5)"
      ],
      "execution_count": null,
      "outputs": [
        {
          "output_type": "execute_result",
          "data": {
            "text/html": [
              "<div>\n",
              "<style scoped>\n",
              "    .dataframe tbody tr th:only-of-type {\n",
              "        vertical-align: middle;\n",
              "    }\n",
              "\n",
              "    .dataframe tbody tr th {\n",
              "        vertical-align: top;\n",
              "    }\n",
              "\n",
              "    .dataframe thead th {\n",
              "        text-align: right;\n",
              "    }\n",
              "</style>\n",
              "<table border=\"1\" class=\"dataframe\">\n",
              "  <thead>\n",
              "    <tr style=\"text-align: right;\">\n",
              "      <th></th>\n",
              "      <th>id</th>\n",
              "      <th>name</th>\n",
              "      <th>date</th>\n",
              "      <th>manner_of_death</th>\n",
              "      <th>armed</th>\n",
              "      <th>age</th>\n",
              "      <th>gender</th>\n",
              "      <th>race</th>\n",
              "      <th>city</th>\n",
              "      <th>state</th>\n",
              "      <th>signs_of_mental_illness</th>\n",
              "      <th>threat_level</th>\n",
              "      <th>flee</th>\n",
              "      <th>body_camera</th>\n",
              "    </tr>\n",
              "  </thead>\n",
              "  <tbody>\n",
              "    <tr>\n",
              "      <th>0</th>\n",
              "      <td>3</td>\n",
              "      <td>Tim Elliot</td>\n",
              "      <td>2015-01-02</td>\n",
              "      <td>shot</td>\n",
              "      <td>gun</td>\n",
              "      <td>53.0</td>\n",
              "      <td>M</td>\n",
              "      <td>A</td>\n",
              "      <td>Shelton</td>\n",
              "      <td>WA</td>\n",
              "      <td>True</td>\n",
              "      <td>attack</td>\n",
              "      <td>Not fleeing</td>\n",
              "      <td>False</td>\n",
              "    </tr>\n",
              "    <tr>\n",
              "      <th>1</th>\n",
              "      <td>4</td>\n",
              "      <td>Lewis Lee Lembke</td>\n",
              "      <td>2015-01-02</td>\n",
              "      <td>shot</td>\n",
              "      <td>gun</td>\n",
              "      <td>47.0</td>\n",
              "      <td>M</td>\n",
              "      <td>W</td>\n",
              "      <td>Aloha</td>\n",
              "      <td>OR</td>\n",
              "      <td>False</td>\n",
              "      <td>attack</td>\n",
              "      <td>Not fleeing</td>\n",
              "      <td>False</td>\n",
              "    </tr>\n",
              "    <tr>\n",
              "      <th>2</th>\n",
              "      <td>5</td>\n",
              "      <td>John Paul Quintero</td>\n",
              "      <td>2015-01-03</td>\n",
              "      <td>shot and Tasered</td>\n",
              "      <td>unarmed</td>\n",
              "      <td>23.0</td>\n",
              "      <td>M</td>\n",
              "      <td>H</td>\n",
              "      <td>Wichita</td>\n",
              "      <td>KS</td>\n",
              "      <td>False</td>\n",
              "      <td>other</td>\n",
              "      <td>Not fleeing</td>\n",
              "      <td>False</td>\n",
              "    </tr>\n",
              "    <tr>\n",
              "      <th>3</th>\n",
              "      <td>8</td>\n",
              "      <td>Matthew Hoffman</td>\n",
              "      <td>2015-01-04</td>\n",
              "      <td>shot</td>\n",
              "      <td>toy weapon</td>\n",
              "      <td>32.0</td>\n",
              "      <td>M</td>\n",
              "      <td>W</td>\n",
              "      <td>San Francisco</td>\n",
              "      <td>CA</td>\n",
              "      <td>True</td>\n",
              "      <td>attack</td>\n",
              "      <td>Not fleeing</td>\n",
              "      <td>False</td>\n",
              "    </tr>\n",
              "    <tr>\n",
              "      <th>4</th>\n",
              "      <td>9</td>\n",
              "      <td>Michael Rodriguez</td>\n",
              "      <td>2015-01-04</td>\n",
              "      <td>shot</td>\n",
              "      <td>nail gun</td>\n",
              "      <td>39.0</td>\n",
              "      <td>M</td>\n",
              "      <td>H</td>\n",
              "      <td>Evans</td>\n",
              "      <td>CO</td>\n",
              "      <td>False</td>\n",
              "      <td>attack</td>\n",
              "      <td>Not fleeing</td>\n",
              "      <td>False</td>\n",
              "    </tr>\n",
              "  </tbody>\n",
              "</table>\n",
              "</div>"
            ],
            "text/plain": [
              "   id                name        date   manner_of_death       armed   age  \\\n",
              "0   3          Tim Elliot  2015-01-02              shot         gun  53.0   \n",
              "1   4    Lewis Lee Lembke  2015-01-02              shot         gun  47.0   \n",
              "2   5  John Paul Quintero  2015-01-03  shot and Tasered     unarmed  23.0   \n",
              "3   8     Matthew Hoffman  2015-01-04              shot  toy weapon  32.0   \n",
              "4   9   Michael Rodriguez  2015-01-04              shot    nail gun  39.0   \n",
              "\n",
              "  gender race           city state  signs_of_mental_illness threat_level  \\\n",
              "0      M    A        Shelton    WA                     True       attack   \n",
              "1      M    W          Aloha    OR                    False       attack   \n",
              "2      M    H        Wichita    KS                    False        other   \n",
              "3      M    W  San Francisco    CA                     True       attack   \n",
              "4      M    H          Evans    CO                    False       attack   \n",
              "\n",
              "          flee  body_camera  \n",
              "0  Not fleeing        False  \n",
              "1  Not fleeing        False  \n",
              "2  Not fleeing        False  \n",
              "3  Not fleeing        False  \n",
              "4  Not fleeing        False  "
            ]
          },
          "metadata": {
            "tags": []
          },
          "execution_count": 57
        }
      ]
    },
    {
      "cell_type": "markdown",
      "metadata": {
        "id": "YkqXf1m0k8dP"
      },
      "source": [
        "**The data moslty consists of objects which are categorical data. **"
      ]
    },
    {
      "cell_type": "code",
      "metadata": {
        "id": "rmodpoqURUVq",
        "colab": {
          "base_uri": "https://localhost:8080/",
          "height": 269
        },
        "outputId": "9f468fa7-681a-4036-da8e-792dca921d11"
      },
      "source": [
        "# Identify the data types\n",
        "shootings_df.dtypes"
      ],
      "execution_count": null,
      "outputs": [
        {
          "output_type": "execute_result",
          "data": {
            "text/plain": [
              "id                           int64\n",
              "name                        object\n",
              "date                        object\n",
              "manner_of_death             object\n",
              "armed                       object\n",
              "age                        float64\n",
              "gender                      object\n",
              "race                        object\n",
              "city                        object\n",
              "state                       object\n",
              "signs_of_mental_illness       bool\n",
              "threat_level                object\n",
              "flee                        object\n",
              "body_camera                   bool\n",
              "dtype: object"
            ]
          },
          "metadata": {
            "tags": []
          },
          "execution_count": 58
        }
      ]
    },
    {
      "cell_type": "markdown",
      "metadata": {
        "id": "4sg6tqEClo5N"
      },
      "source": [
        "**The data consists of 14 attributes (columns). Not all of the attributes will be useful for this analysis. I will drop the 'id', 'name', 'date', and 'city' columns. **"
      ]
    },
    {
      "cell_type": "code",
      "metadata": {
        "id": "mPt_ttDlRW_q"
      },
      "source": [
        "# List the columns and identify the ones that may not be useful for our analysis\n",
        "shootings_df.columns"
      ],
      "execution_count": null,
      "outputs": []
    },
    {
      "cell_type": "markdown",
      "metadata": {
        "id": "X2wsoMyi-GzC"
      },
      "source": [
        "## **7. Clean the Data**"
      ]
    },
    {
      "cell_type": "markdown",
      "metadata": {
        "id": "-iGRMsIdmPt5"
      },
      "source": [
        "**Drop the 'id', 'name', 'date', 'city' columns**"
      ]
    },
    {
      "cell_type": "code",
      "metadata": {
        "id": "urXPAvsDRcP5",
        "colab": {
          "base_uri": "https://localhost:8080/",
          "height": 195
        },
        "outputId": "c4ebb6c3-d772-412e-a8f7-e8dd60c1ae14"
      },
      "source": [
        "#drop columns from data that are not needed\n",
        "#create new data frame (df) after dropping columns\n",
        "df= shootings_df.drop(columns=['id', 'name', 'date', 'city'])\n",
        "pd.set_option('display.max_columns', None)\n",
        "df.head(5)"
      ],
      "execution_count": null,
      "outputs": [
        {
          "output_type": "execute_result",
          "data": {
            "text/html": [
              "<div>\n",
              "<style scoped>\n",
              "    .dataframe tbody tr th:only-of-type {\n",
              "        vertical-align: middle;\n",
              "    }\n",
              "\n",
              "    .dataframe tbody tr th {\n",
              "        vertical-align: top;\n",
              "    }\n",
              "\n",
              "    .dataframe thead th {\n",
              "        text-align: right;\n",
              "    }\n",
              "</style>\n",
              "<table border=\"1\" class=\"dataframe\">\n",
              "  <thead>\n",
              "    <tr style=\"text-align: right;\">\n",
              "      <th></th>\n",
              "      <th>manner_of_death</th>\n",
              "      <th>armed</th>\n",
              "      <th>age</th>\n",
              "      <th>gender</th>\n",
              "      <th>race</th>\n",
              "      <th>state</th>\n",
              "      <th>signs_of_mental_illness</th>\n",
              "      <th>threat_level</th>\n",
              "      <th>flee</th>\n",
              "      <th>body_camera</th>\n",
              "    </tr>\n",
              "  </thead>\n",
              "  <tbody>\n",
              "    <tr>\n",
              "      <th>0</th>\n",
              "      <td>shot</td>\n",
              "      <td>gun</td>\n",
              "      <td>53.0</td>\n",
              "      <td>M</td>\n",
              "      <td>A</td>\n",
              "      <td>WA</td>\n",
              "      <td>True</td>\n",
              "      <td>attack</td>\n",
              "      <td>Not fleeing</td>\n",
              "      <td>False</td>\n",
              "    </tr>\n",
              "    <tr>\n",
              "      <th>1</th>\n",
              "      <td>shot</td>\n",
              "      <td>gun</td>\n",
              "      <td>47.0</td>\n",
              "      <td>M</td>\n",
              "      <td>W</td>\n",
              "      <td>OR</td>\n",
              "      <td>False</td>\n",
              "      <td>attack</td>\n",
              "      <td>Not fleeing</td>\n",
              "      <td>False</td>\n",
              "    </tr>\n",
              "    <tr>\n",
              "      <th>2</th>\n",
              "      <td>shot and Tasered</td>\n",
              "      <td>unarmed</td>\n",
              "      <td>23.0</td>\n",
              "      <td>M</td>\n",
              "      <td>H</td>\n",
              "      <td>KS</td>\n",
              "      <td>False</td>\n",
              "      <td>other</td>\n",
              "      <td>Not fleeing</td>\n",
              "      <td>False</td>\n",
              "    </tr>\n",
              "    <tr>\n",
              "      <th>3</th>\n",
              "      <td>shot</td>\n",
              "      <td>toy weapon</td>\n",
              "      <td>32.0</td>\n",
              "      <td>M</td>\n",
              "      <td>W</td>\n",
              "      <td>CA</td>\n",
              "      <td>True</td>\n",
              "      <td>attack</td>\n",
              "      <td>Not fleeing</td>\n",
              "      <td>False</td>\n",
              "    </tr>\n",
              "    <tr>\n",
              "      <th>4</th>\n",
              "      <td>shot</td>\n",
              "      <td>nail gun</td>\n",
              "      <td>39.0</td>\n",
              "      <td>M</td>\n",
              "      <td>H</td>\n",
              "      <td>CO</td>\n",
              "      <td>False</td>\n",
              "      <td>attack</td>\n",
              "      <td>Not fleeing</td>\n",
              "      <td>False</td>\n",
              "    </tr>\n",
              "  </tbody>\n",
              "</table>\n",
              "</div>"
            ],
            "text/plain": [
              "    manner_of_death       armed   age gender race state  \\\n",
              "0              shot         gun  53.0      M    A    WA   \n",
              "1              shot         gun  47.0      M    W    OR   \n",
              "2  shot and Tasered     unarmed  23.0      M    H    KS   \n",
              "3              shot  toy weapon  32.0      M    W    CA   \n",
              "4              shot    nail gun  39.0      M    H    CO   \n",
              "\n",
              "   signs_of_mental_illness threat_level         flee  body_camera  \n",
              "0                     True       attack  Not fleeing        False  \n",
              "1                    False       attack  Not fleeing        False  \n",
              "2                    False        other  Not fleeing        False  \n",
              "3                     True       attack  Not fleeing        False  \n",
              "4                    False       attack  Not fleeing        False  "
            ]
          },
          "metadata": {
            "tags": []
          },
          "execution_count": 59
        }
      ]
    },
    {
      "cell_type": "markdown",
      "metadata": {
        "id": "SYXKakQGmlDC"
      },
      "source": [
        "**Change the race labels to from A, B, W, H, O, and N to Asian, Black,  White, Hispanic, Other, and Native American**"
      ]
    },
    {
      "cell_type": "code",
      "metadata": {
        "id": "v4S7M4jZRjw5",
        "colab": {
          "base_uri": "https://localhost:8080/",
          "height": 195
        },
        "outputId": "79b20e8f-109c-4ef5-fc89-cb8594e359e7"
      },
      "source": [
        "# Change the race labels to from A, B, W, H, O, and N to Asian, Black,  White, Hispanic, Other, and Native American\n",
        "df.replace({'race' : { 'A' : 'Asian', 'W' : 'White', 'B' : 'Black', 'H' : 'Hispanic', 'O' : 'Other', 'N' : 'Native American' }}, inplace = True)\n",
        "df.head(5)"
      ],
      "execution_count": null,
      "outputs": [
        {
          "output_type": "execute_result",
          "data": {
            "text/html": [
              "<div>\n",
              "<style scoped>\n",
              "    .dataframe tbody tr th:only-of-type {\n",
              "        vertical-align: middle;\n",
              "    }\n",
              "\n",
              "    .dataframe tbody tr th {\n",
              "        vertical-align: top;\n",
              "    }\n",
              "\n",
              "    .dataframe thead th {\n",
              "        text-align: right;\n",
              "    }\n",
              "</style>\n",
              "<table border=\"1\" class=\"dataframe\">\n",
              "  <thead>\n",
              "    <tr style=\"text-align: right;\">\n",
              "      <th></th>\n",
              "      <th>manner_of_death</th>\n",
              "      <th>armed</th>\n",
              "      <th>age</th>\n",
              "      <th>gender</th>\n",
              "      <th>race</th>\n",
              "      <th>state</th>\n",
              "      <th>signs_of_mental_illness</th>\n",
              "      <th>threat_level</th>\n",
              "      <th>flee</th>\n",
              "      <th>body_camera</th>\n",
              "    </tr>\n",
              "  </thead>\n",
              "  <tbody>\n",
              "    <tr>\n",
              "      <th>0</th>\n",
              "      <td>shot</td>\n",
              "      <td>gun</td>\n",
              "      <td>53.0</td>\n",
              "      <td>M</td>\n",
              "      <td>Asian</td>\n",
              "      <td>WA</td>\n",
              "      <td>True</td>\n",
              "      <td>attack</td>\n",
              "      <td>Not fleeing</td>\n",
              "      <td>False</td>\n",
              "    </tr>\n",
              "    <tr>\n",
              "      <th>1</th>\n",
              "      <td>shot</td>\n",
              "      <td>gun</td>\n",
              "      <td>47.0</td>\n",
              "      <td>M</td>\n",
              "      <td>White</td>\n",
              "      <td>OR</td>\n",
              "      <td>False</td>\n",
              "      <td>attack</td>\n",
              "      <td>Not fleeing</td>\n",
              "      <td>False</td>\n",
              "    </tr>\n",
              "    <tr>\n",
              "      <th>2</th>\n",
              "      <td>shot and Tasered</td>\n",
              "      <td>unarmed</td>\n",
              "      <td>23.0</td>\n",
              "      <td>M</td>\n",
              "      <td>Hispanic</td>\n",
              "      <td>KS</td>\n",
              "      <td>False</td>\n",
              "      <td>other</td>\n",
              "      <td>Not fleeing</td>\n",
              "      <td>False</td>\n",
              "    </tr>\n",
              "    <tr>\n",
              "      <th>3</th>\n",
              "      <td>shot</td>\n",
              "      <td>toy weapon</td>\n",
              "      <td>32.0</td>\n",
              "      <td>M</td>\n",
              "      <td>White</td>\n",
              "      <td>CA</td>\n",
              "      <td>True</td>\n",
              "      <td>attack</td>\n",
              "      <td>Not fleeing</td>\n",
              "      <td>False</td>\n",
              "    </tr>\n",
              "    <tr>\n",
              "      <th>4</th>\n",
              "      <td>shot</td>\n",
              "      <td>nail gun</td>\n",
              "      <td>39.0</td>\n",
              "      <td>M</td>\n",
              "      <td>Hispanic</td>\n",
              "      <td>CO</td>\n",
              "      <td>False</td>\n",
              "      <td>attack</td>\n",
              "      <td>Not fleeing</td>\n",
              "      <td>False</td>\n",
              "    </tr>\n",
              "  </tbody>\n",
              "</table>\n",
              "</div>"
            ],
            "text/plain": [
              "    manner_of_death       armed   age gender      race state  \\\n",
              "0              shot         gun  53.0      M     Asian    WA   \n",
              "1              shot         gun  47.0      M     White    OR   \n",
              "2  shot and Tasered     unarmed  23.0      M  Hispanic    KS   \n",
              "3              shot  toy weapon  32.0      M     White    CA   \n",
              "4              shot    nail gun  39.0      M  Hispanic    CO   \n",
              "\n",
              "   signs_of_mental_illness threat_level         flee  body_camera  \n",
              "0                     True       attack  Not fleeing        False  \n",
              "1                    False       attack  Not fleeing        False  \n",
              "2                    False        other  Not fleeing        False  \n",
              "3                     True       attack  Not fleeing        False  \n",
              "4                    False       attack  Not fleeing        False  "
            ]
          },
          "metadata": {
            "tags": []
          },
          "execution_count": 60
        }
      ]
    },
    {
      "cell_type": "markdown",
      "metadata": {
        "id": "RkTMQedknS3n"
      },
      "source": [
        "**Examine the counts for the data in order to get a quick picture of the data. The data should have 5552 rows, but it looks as if some columns may be missing data such as the armed column. **"
      ]
    },
    {
      "cell_type": "code",
      "metadata": {
        "id": "R5qUc7KXRnw-",
        "colab": {
          "base_uri": "https://localhost:8080/",
          "height": 202
        },
        "outputId": "c21a2175-6ce7-4986-f596-c72c93fd9232"
      },
      "source": [
        "# Examine Data count and data types for each column attribute\n",
        "df.count()    #data counts"
      ],
      "execution_count": null,
      "outputs": [
        {
          "output_type": "execute_result",
          "data": {
            "text/plain": [
              "manner_of_death            5552\n",
              "armed                      5339\n",
              "age                        5307\n",
              "gender                     5551\n",
              "race                       4966\n",
              "state                      5552\n",
              "signs_of_mental_illness    5552\n",
              "threat_level               5552\n",
              "flee                       5290\n",
              "body_camera                5552\n",
              "dtype: int64"
            ]
          },
          "metadata": {
            "tags": []
          },
          "execution_count": 62
        }
      ]
    },
    {
      "cell_type": "markdown",
      "metadata": {
        "id": "IOARf7uwR06C"
      },
      "source": [
        "**Drop all of the rows that contain NaN**"
      ]
    },
    {
      "cell_type": "code",
      "metadata": {
        "id": "-Mkkpe9uR1_G",
        "colab": {
          "base_uri": "https://localhost:8080/",
          "height": 195
        },
        "outputId": "04da4d4a-96b5-4bfc-a8f7-efb9bc461fb6"
      },
      "source": [
        "# Clean out the NaN values from the data\n",
        "#create a dataframe to display nan rows\n",
        "df_nan = df[df.isna().any(axis = 1)]\n",
        "df_nan.head(5)"
      ],
      "execution_count": null,
      "outputs": [
        {
          "output_type": "execute_result",
          "data": {
            "text/html": [
              "<div>\n",
              "<style scoped>\n",
              "    .dataframe tbody tr th:only-of-type {\n",
              "        vertical-align: middle;\n",
              "    }\n",
              "\n",
              "    .dataframe tbody tr th {\n",
              "        vertical-align: top;\n",
              "    }\n",
              "\n",
              "    .dataframe thead th {\n",
              "        text-align: right;\n",
              "    }\n",
              "</style>\n",
              "<table border=\"1\" class=\"dataframe\">\n",
              "  <thead>\n",
              "    <tr style=\"text-align: right;\">\n",
              "      <th></th>\n",
              "      <th>manner_of_death</th>\n",
              "      <th>armed</th>\n",
              "      <th>age</th>\n",
              "      <th>gender</th>\n",
              "      <th>race</th>\n",
              "      <th>state</th>\n",
              "      <th>signs_of_mental_illness</th>\n",
              "      <th>threat_level</th>\n",
              "      <th>flee</th>\n",
              "      <th>body_camera</th>\n",
              "    </tr>\n",
              "  </thead>\n",
              "  <tbody>\n",
              "    <tr>\n",
              "      <th>15</th>\n",
              "      <td>shot</td>\n",
              "      <td>NaN</td>\n",
              "      <td>28.0</td>\n",
              "      <td>M</td>\n",
              "      <td>White</td>\n",
              "      <td>MT</td>\n",
              "      <td>False</td>\n",
              "      <td>undetermined</td>\n",
              "      <td>Not fleeing</td>\n",
              "      <td>False</td>\n",
              "    </tr>\n",
              "    <tr>\n",
              "      <th>26</th>\n",
              "      <td>shot</td>\n",
              "      <td>NaN</td>\n",
              "      <td>24.0</td>\n",
              "      <td>M</td>\n",
              "      <td>Black</td>\n",
              "      <td>MN</td>\n",
              "      <td>False</td>\n",
              "      <td>attack</td>\n",
              "      <td>Not fleeing</td>\n",
              "      <td>False</td>\n",
              "    </tr>\n",
              "    <tr>\n",
              "      <th>27</th>\n",
              "      <td>shot</td>\n",
              "      <td>NaN</td>\n",
              "      <td>29.0</td>\n",
              "      <td>M</td>\n",
              "      <td>White</td>\n",
              "      <td>MO</td>\n",
              "      <td>False</td>\n",
              "      <td>attack</td>\n",
              "      <td>Not fleeing</td>\n",
              "      <td>False</td>\n",
              "    </tr>\n",
              "    <tr>\n",
              "      <th>45</th>\n",
              "      <td>shot</td>\n",
              "      <td>NaN</td>\n",
              "      <td>42.0</td>\n",
              "      <td>M</td>\n",
              "      <td>Black</td>\n",
              "      <td>AZ</td>\n",
              "      <td>False</td>\n",
              "      <td>other</td>\n",
              "      <td>Car</td>\n",
              "      <td>False</td>\n",
              "    </tr>\n",
              "    <tr>\n",
              "      <th>52</th>\n",
              "      <td>shot</td>\n",
              "      <td>NaN</td>\n",
              "      <td>29.0</td>\n",
              "      <td>M</td>\n",
              "      <td>Black</td>\n",
              "      <td>FL</td>\n",
              "      <td>False</td>\n",
              "      <td>other</td>\n",
              "      <td>Not fleeing</td>\n",
              "      <td>False</td>\n",
              "    </tr>\n",
              "  </tbody>\n",
              "</table>\n",
              "</div>"
            ],
            "text/plain": [
              "   manner_of_death armed   age gender   race state  signs_of_mental_illness  \\\n",
              "15            shot   NaN  28.0      M  White    MT                    False   \n",
              "26            shot   NaN  24.0      M  Black    MN                    False   \n",
              "27            shot   NaN  29.0      M  White    MO                    False   \n",
              "45            shot   NaN  42.0      M  Black    AZ                    False   \n",
              "52            shot   NaN  29.0      M  Black    FL                    False   \n",
              "\n",
              "    threat_level         flee  body_camera  \n",
              "15  undetermined  Not fleeing        False  \n",
              "26        attack  Not fleeing        False  \n",
              "27        attack  Not fleeing        False  \n",
              "45         other          Car        False  \n",
              "52         other  Not fleeing        False  "
            ]
          },
          "metadata": {
            "tags": []
          },
          "execution_count": 63
        }
      ]
    },
    {
      "cell_type": "code",
      "metadata": {
        "id": "5fdl2ngNR9IV"
      },
      "source": [
        "#drop all rows with NaN values\n",
        "df = df.dropna(how = 'any')"
      ],
      "execution_count": null,
      "outputs": []
    },
    {
      "cell_type": "code",
      "metadata": {
        "id": "gMWHM0bvSAYg",
        "colab": {
          "base_uri": "https://localhost:8080/",
          "height": 47
        },
        "outputId": "59dc1238-38ef-4ee9-fabb-7b244499a19b"
      },
      "source": [
        "#verify all NaN rows were dropped\n",
        "df_nan2 = df[df.isna().any(axis = 1)]\n",
        "df_nan2.head(10)"
      ],
      "execution_count": null,
      "outputs": [
        {
          "output_type": "execute_result",
          "data": {
            "text/html": [
              "<div>\n",
              "<style scoped>\n",
              "    .dataframe tbody tr th:only-of-type {\n",
              "        vertical-align: middle;\n",
              "    }\n",
              "\n",
              "    .dataframe tbody tr th {\n",
              "        vertical-align: top;\n",
              "    }\n",
              "\n",
              "    .dataframe thead th {\n",
              "        text-align: right;\n",
              "    }\n",
              "</style>\n",
              "<table border=\"1\" class=\"dataframe\">\n",
              "  <thead>\n",
              "    <tr style=\"text-align: right;\">\n",
              "      <th></th>\n",
              "      <th>manner_of_death</th>\n",
              "      <th>armed</th>\n",
              "      <th>age</th>\n",
              "      <th>gender</th>\n",
              "      <th>race</th>\n",
              "      <th>state</th>\n",
              "      <th>signs_of_mental_illness</th>\n",
              "      <th>threat_level</th>\n",
              "      <th>flee</th>\n",
              "      <th>body_camera</th>\n",
              "    </tr>\n",
              "  </thead>\n",
              "  <tbody>\n",
              "  </tbody>\n",
              "</table>\n",
              "</div>"
            ],
            "text/plain": [
              "Empty DataFrame\n",
              "Columns: [manner_of_death, armed, age, gender, race, state, signs_of_mental_illness, threat_level, flee, body_camera]\n",
              "Index: []"
            ]
          },
          "metadata": {
            "tags": []
          },
          "execution_count": 65
        }
      ]
    },
    {
      "cell_type": "markdown",
      "metadata": {
        "id": "aoIRxOU-pZYB"
      },
      "source": [
        "**Our final dataset consists of 4474 rows and 10 columns**"
      ]
    },
    {
      "cell_type": "code",
      "metadata": {
        "id": "FTsFlnagSEU1",
        "colab": {
          "base_uri": "https://localhost:8080/",
          "height": 34
        },
        "outputId": "27da52c8-9673-4e80-d7c7-1dae73a4e06d"
      },
      "source": [
        "#we now have 4474 rows and 10 columns\n",
        "df.shape"
      ],
      "execution_count": null,
      "outputs": [
        {
          "output_type": "execute_result",
          "data": {
            "text/plain": [
              "(4474, 10)"
            ]
          },
          "metadata": {
            "tags": []
          },
          "execution_count": 66
        }
      ]
    },
    {
      "cell_type": "markdown",
      "metadata": {
        "id": "5wHT8v78pkbs"
      },
      "source": [
        "**Using the value counts function, I get a picture of characterists of some of the attributes noting values that are highest and lowest. **\n",
        "\n",
        "For instance, from 2015-2020: \n",
        "\n",
        "*Whites experienced the most deaths\n",
        "\n",
        "*More people were killed while armed with guns\n",
        "\n",
        "*More males were killed\n",
        "\n",
        "*More people were shot while not fleeing\n",
        "\n",
        "*More deaths occured when the officer didn't have a body camera.\n",
        "\n",
        "\n",
        "\n"
      ]
    },
    {
      "cell_type": "code",
      "metadata": {
        "id": "AbssiNRESIkN",
        "colab": {
          "base_uri": "https://localhost:8080/",
          "height": 67
        },
        "outputId": "729d73d0-56ae-414e-cc7c-35e4262e28a7"
      },
      "source": [
        "df['manner_of_death'].value_counts()"
      ],
      "execution_count": null,
      "outputs": [
        {
          "output_type": "execute_result",
          "data": {
            "text/plain": [
              "shot                4241\n",
              "shot and Tasered     233\n",
              "Name: manner_of_death, dtype: int64"
            ]
          },
          "metadata": {
            "tags": []
          },
          "execution_count": 67
        }
      ]
    },
    {
      "cell_type": "code",
      "metadata": {
        "id": "43oYN1daSMIg",
        "colab": {
          "base_uri": "https://localhost:8080/",
          "height": 218
        },
        "outputId": "98d48ba2-570c-4fee-c95f-22abc3cce642"
      },
      "source": [
        "df['armed'].value_counts()"
      ],
      "execution_count": null,
      "outputs": [
        {
          "output_type": "execute_result",
          "data": {
            "text/plain": [
              "gun                   2634\n",
              "knife                  672\n",
              "unarmed                338\n",
              "toy weapon             167\n",
              "vehicle                132\n",
              "                      ... \n",
              "contractor's level       1\n",
              "grenade                  1\n",
              "motorcycle               1\n",
              "barstool                 1\n",
              "wasp spray               1\n",
              "Name: armed, Length: 90, dtype: int64"
            ]
          },
          "metadata": {
            "tags": []
          },
          "execution_count": 68
        }
      ]
    },
    {
      "cell_type": "code",
      "metadata": {
        "id": "g4LPGGmQSQMt",
        "colab": {
          "base_uri": "https://localhost:8080/",
          "height": 218
        },
        "outputId": "7944b580-9602-45bb-d9b9-0c6f9ae77e80"
      },
      "source": [
        "df['age'].value_counts()"
      ],
      "execution_count": null,
      "outputs": [
        {
          "output_type": "execute_result",
          "data": {
            "text/plain": [
              "25.0    162\n",
              "31.0    161\n",
              "27.0    156\n",
              "34.0    152\n",
              "29.0    150\n",
              "       ... \n",
              "12.0      1\n",
              "79.0      1\n",
              "81.0      1\n",
              "13.0      1\n",
              "82.0      1\n",
              "Name: age, Length: 75, dtype: int64"
            ]
          },
          "metadata": {
            "tags": []
          },
          "execution_count": 69
        }
      ]
    },
    {
      "cell_type": "code",
      "metadata": {
        "id": "Jt-ExAhsSU8I",
        "colab": {
          "base_uri": "https://localhost:8080/",
          "height": 67
        },
        "outputId": "1528134a-10b3-411a-d5c0-2ff70b281225"
      },
      "source": [
        "df['gender'].value_counts()"
      ],
      "execution_count": null,
      "outputs": [
        {
          "output_type": "execute_result",
          "data": {
            "text/plain": [
              "M    4251\n",
              "F     223\n",
              "Name: gender, dtype: int64"
            ]
          },
          "metadata": {
            "tags": []
          },
          "execution_count": 70
        }
      ]
    },
    {
      "cell_type": "code",
      "metadata": {
        "id": "_tniWLcsSY-R",
        "colab": {
          "base_uri": "https://localhost:8080/",
          "height": 134
        },
        "outputId": "279e37f1-f5de-4749-e4d3-fee26e30b731"
      },
      "source": [
        "df['race'].value_counts()"
      ],
      "execution_count": null,
      "outputs": [
        {
          "output_type": "execute_result",
          "data": {
            "text/plain": [
              "White              2292\n",
              "Black              1184\n",
              "Hispanic            801\n",
              "Asian                83\n",
              "Native American      71\n",
              "Other                43\n",
              "Name: race, dtype: int64"
            ]
          },
          "metadata": {
            "tags": []
          },
          "execution_count": 71
        }
      ]
    },
    {
      "cell_type": "code",
      "metadata": {
        "id": "2zUoCUxfSi2G",
        "colab": {
          "base_uri": "https://localhost:8080/",
          "height": 890
        },
        "outputId": "4e0787e8-f07e-47f0-bc52-ec4cee5f5fb4"
      },
      "source": [
        "df['state'].value_counts()"
      ],
      "execution_count": null,
      "outputs": [
        {
          "output_type": "execute_result",
          "data": {
            "text/plain": [
              "CA    636\n",
              "TX    393\n",
              "FL    302\n",
              "AZ    201\n",
              "CO    157\n",
              "GA    149\n",
              "OK    138\n",
              "NC    136\n",
              "OH    135\n",
              "TN    116\n",
              "WA    115\n",
              "MO    113\n",
              "IL     89\n",
              "LA     89\n",
              "IN     88\n",
              "PA     88\n",
              "NY     86\n",
              "VA     86\n",
              "AL     86\n",
              "NM     83\n",
              "WI     83\n",
              "NV     79\n",
              "KY     75\n",
              "MI     71\n",
              "SC     71\n",
              "MD     67\n",
              "OR     66\n",
              "AR     63\n",
              "UT     57\n",
              "MN     56\n",
              "MS     54\n",
              "NJ     53\n",
              "KS     46\n",
              "WV     38\n",
              "ID     35\n",
              "AK     33\n",
              "MA     30\n",
              "IA     29\n",
              "HI     23\n",
              "MT     23\n",
              "NE     22\n",
              "CT     17\n",
              "ME     17\n",
              "DC     13\n",
              "SD     13\n",
              "WY     13\n",
              "NH     12\n",
              "ND     10\n",
              "DE      9\n",
              "VT      8\n",
              "RI      2\n",
              "Name: state, dtype: int64"
            ]
          },
          "metadata": {
            "tags": []
          },
          "execution_count": 72
        }
      ]
    },
    {
      "cell_type": "code",
      "metadata": {
        "id": "6NnLh2PNSl0Q",
        "colab": {
          "base_uri": "https://localhost:8080/",
          "height": 67
        },
        "outputId": "b391775f-a8ab-44a4-9382-3b01ee1a4ec7"
      },
      "source": [
        "df['signs_of_mental_illness'].value_counts()"
      ],
      "execution_count": null,
      "outputs": [
        {
          "output_type": "execute_result",
          "data": {
            "text/plain": [
              "False    3420\n",
              "True     1054\n",
              "Name: signs_of_mental_illness, dtype: int64"
            ]
          },
          "metadata": {
            "tags": []
          },
          "execution_count": 73
        }
      ]
    },
    {
      "cell_type": "code",
      "metadata": {
        "id": "ef02PIF9Sq1b",
        "colab": {
          "base_uri": "https://localhost:8080/",
          "height": 84
        },
        "outputId": "e6bd479c-2248-48c0-cbee-4a0ba1998f32"
      },
      "source": [
        "df['threat_level'].value_counts()"
      ],
      "execution_count": null,
      "outputs": [
        {
          "output_type": "execute_result",
          "data": {
            "text/plain": [
              "attack          2954\n",
              "other           1352\n",
              "undetermined     168\n",
              "Name: threat_level, dtype: int64"
            ]
          },
          "metadata": {
            "tags": []
          },
          "execution_count": 74
        }
      ]
    },
    {
      "cell_type": "code",
      "metadata": {
        "id": "aeFVpx1LSuaP",
        "colab": {
          "base_uri": "https://localhost:8080/",
          "height": 101
        },
        "outputId": "a1dbd987-5ca4-4b1e-8437-fd96ace88e64"
      },
      "source": [
        "df['flee'].value_counts()"
      ],
      "execution_count": null,
      "outputs": [
        {
          "output_type": "execute_result",
          "data": {
            "text/plain": [
              "Not fleeing    3008\n",
              "Car             673\n",
              "Foot            642\n",
              "Other           151\n",
              "Name: flee, dtype: int64"
            ]
          },
          "metadata": {
            "tags": []
          },
          "execution_count": 75
        }
      ]
    },
    {
      "cell_type": "code",
      "metadata": {
        "id": "ScONc9TZS0XO",
        "colab": {
          "base_uri": "https://localhost:8080/",
          "height": 67
        },
        "outputId": "9ac16b4b-4064-45e2-ca97-bc1b3b987e04"
      },
      "source": [
        "df['body_camera'].value_counts()"
      ],
      "execution_count": null,
      "outputs": [
        {
          "output_type": "execute_result",
          "data": {
            "text/plain": [
              "False    3919\n",
              "True      555\n",
              "Name: body_camera, dtype: int64"
            ]
          },
          "metadata": {
            "tags": []
          },
          "execution_count": 76
        }
      ]
    },
    {
      "cell_type": "markdown",
      "metadata": {
        "id": "FS_g30fPS4YM"
      },
      "source": [
        "# **8. AGE** \n",
        "\n",
        "**From 2015-2020, a higher density of deaths occured amoung younger people where the mean age was 36. **"
      ]
    },
    {
      "cell_type": "code",
      "metadata": {
        "id": "wFgUmaaGS53B",
        "colab": {
          "base_uri": "https://localhost:8080/",
          "height": 421
        },
        "outputId": "e3d3fdc2-779b-41b5-8233-c82f27b20337"
      },
      "source": [
        "df.hist('age')\n",
        "plt.title(\"Deaths and Age\")\n",
        "plt.xlabel(\"Age\")\n",
        "plt.ylabel(\"Deaths\")\n",
        "plt.show()"
      ],
      "execution_count": null,
      "outputs": [
        {
          "output_type": "display_data",
          "data": {
            "image/png": "[encoded data removed]",
            "text/plain": [
              "<Figure size 576x432 with 1 Axes>"
            ]
          },
          "metadata": {
            "tags": []
          }
        }
      ]
    },
    {
      "cell_type": "markdown",
      "metadata": {
        "id": "yMT5syp2sD8A"
      },
      "source": [
        "**Age and Race**\n",
        "\n",
        "**The violin charts also indicate the young nature of the deaths from police shootings for all racial groups. Whites appear to experience more police shootings at older ages while blacks, hispanics, other, and native americans appear to experience more police shootings at younger ages when compared to the other groups. **\n"
      ]
    },
    {
      "cell_type": "code",
      "metadata": {
        "id": "9lUv3D4wTCgk",
        "colab": {
          "base_uri": "https://localhost:8080/",
          "height": 501
        },
        "outputId": "7f77d34a-a797-4686-fd9d-0bb62c6bc8fa"
      },
      "source": [
        "ax = sns.violinplot(x= \"race\", y=\"age\", inner = \"box\", data = df)\n",
        "plt.text(x=1.5, y=105.0, s='Age and Race', fontsize=16, weight='bold')\n",
        "ax.set_xticklabels(ax.get_xticklabels(), rotation=45, horizontalalignment='right');"
      ],
      "execution_count": null,
      "outputs": [
        {
          "output_type": "display_data",
          "data": {
            "image/png": "[encoded data removed]",
            "text/plain": [
              "<Figure size 576x432 with 1 Axes>"
            ]
          },
          "metadata": {
            "tags": []
          }
        }
      ]
    },
    {
      "cell_type": "code",
      "metadata": {
        "id": "xDNt-l3RTKd5",
        "colab": {
          "base_uri": "https://localhost:8080/",
          "height": 168
        },
        "outputId": "62b9356c-623b-4157-fb86-21a407063530"
      },
      "source": [
        "#summary statitics for Age column. Mean age of 36 for deaths, which is relativley young. \n",
        "print(df.describe())"
      ],
      "execution_count": null,
      "outputs": [
        {
          "output_type": "stream",
          "text": [
            "               age\n",
            "count  4474.000000\n",
            "mean     36.599687\n",
            "std      12.786891\n",
            "min       6.000000\n",
            "25%      27.000000\n",
            "50%      34.000000\n",
            "75%      45.000000\n",
            "max      91.000000\n"
          ],
          "name": "stdout"
        }
      ]
    },
    {
      "cell_type": "markdown",
      "metadata": {
        "id": "chcoJcGCTSzk"
      },
      "source": [
        "# **9. Gender:** \n",
        "\n",
        " **Between 2015-2020, 96% of the deaths involved men and 4 % involved women.**"
      ]
    },
    {
      "cell_type": "code",
      "metadata": {
        "id": "C3VVWGuSTVre",
        "colab": {
          "base_uri": "https://localhost:8080/",
          "height": 432
        },
        "outputId": "f5abdb10-f765-49d1-89c2-d45f4d442c27"
      },
      "source": [
        "#GENDER\n",
        "f, ax = plt.subplots(figsize=(6, 6))\n",
        "ax = sns.countplot(x='gender', data=df)\n",
        "plt.text(x=0.1, y=4500.0, s='Deaths by Gender', fontsize=16, weight='bold')"
      ],
      "execution_count": null,
      "outputs": [
        {
          "output_type": "execute_result",
          "data": {
            "text/plain": [
              "Text(0.1, 4500.0, 'Deaths by Gender')"
            ]
          },
          "metadata": {
            "tags": []
          },
          "execution_count": 80
        },
        {
          "output_type": "display_data",
          "data": {
            "image/png": "[encoded data removed]",
            "text/plain": [
              "<Figure size 432x432 with 1 Axes>"
            ]
          },
          "metadata": {
            "tags": []
          }
        }
      ]
    },
    {
      "cell_type": "markdown",
      "metadata": {
        "id": "g5OMWR4cTdL2"
      },
      "source": [
        "# **10. Mental Illness:**\n",
        "\n",
        "24% of the deaths involved the deceased having a history of mental health issues, expressing suicidal intentions or was experiencing mental distress at the time of the shooting."
      ]
    },
    {
      "cell_type": "code",
      "metadata": {
        "id": "NvnbJbJHTfWg",
        "colab": {
          "base_uri": "https://localhost:8080/",
          "height": 439
        },
        "outputId": "b847b76a-e1a7-43b5-a2c9-b53e01fd6eee"
      },
      "source": [
        "f, ax = plt.subplots(figsize=(6, 6))\n",
        "ax = sns.countplot(x='signs_of_mental_illness', data=df, palette = 'winter')\n",
        "plt.text(x=-0.2, y=3700.0, s='Deaths and Mental Illness', fontsize=16, weight='bold')"
      ],
      "execution_count": null,
      "outputs": [
        {
          "output_type": "execute_result",
          "data": {
            "text/plain": [
              "Text(-0.2, 3700.0, 'Deaths and Mental Illness')"
            ]
          },
          "metadata": {
            "tags": []
          },
          "execution_count": 81
        },
        {
          "output_type": "display_data",
          "data": {
            "image/png": "[encoded data removed]",
            "text/plain": [
              "<Figure size 432x432 with 1 Axes>"
            ]
          },
          "metadata": {
            "tags": []
          }
        }
      ]
    },
    {
      "cell_type": "markdown",
      "metadata": {
        "id": "qE7m6utRTmpN"
      },
      "source": [
        "# **11. body worn cameras:**\n",
        "\n",
        "88% of deaths involved the police officer not wearing a body camera while 12% involved the officer wearing a body camera."
      ]
    },
    {
      "cell_type": "code",
      "metadata": {
        "id": "CHaTLjVtToC6",
        "colab": {
          "base_uri": "https://localhost:8080/",
          "height": 436
        },
        "outputId": "c635af00-89dd-4c39-9ddf-2b80ce7b8394"
      },
      "source": [
        "f, ax = plt.subplots(figsize=(6, 6))\n",
        "ax = sns.countplot(x='body_camera', data=df, palette = 'spring')\n",
        "plt.text(x=-0.2, y=4200.0, s='Deaths and Officer Bodycams', fontsize=16, weight='bold')"
      ],
      "execution_count": null,
      "outputs": [
        {
          "output_type": "execute_result",
          "data": {
            "text/plain": [
              "Text(-0.2, 4200.0, 'Deaths and Officer Bodycams')"
            ]
          },
          "metadata": {
            "tags": []
          },
          "execution_count": 82
        },
        {
          "output_type": "display_data",
          "data": {
            "image/png": "[encoded data removed]",
            "text/plain": [
              "<Figure size 432x432 with 1 Axes>"
            ]
          },
          "metadata": {
            "tags": []
          }
        }
      ]
    },
    {
      "cell_type": "markdown",
      "metadata": {
        "id": "yHqa_KcFu-uW"
      },
      "source": [
        "# **12. Race:**\n",
        "\n",
        "Race is the main attribute I am interested in examining for this analysis. \n",
        "I used the groupby function to take a quick look at the deaths between each racial group, and at first glance whites appeared to have experienced the most deaths followed by blacks and hispanics. But whites are a racial majority in the United States, so this doesn't convey the full picture regarding death rates. In other words, which group experienced the highest death rate? "
      ]
    },
    {
      "cell_type": "code",
      "metadata": {
        "id": "nb4rr6eyTy5n",
        "colab": {
          "base_uri": "https://localhost:8080/",
          "height": 151
        },
        "outputId": "be34a14d-7589-4fb1-de97-3c1026f56a99"
      },
      "source": [
        "#Examine the amount of deaths in each racial group. Whites have the highest amount of deaths followed by Blacks and Hispanics. \n",
        "# Whites are a majority population in the U.S, so this fact must be taken into abccount before ascertaining which racial group.. \n",
        "# ..dies at a higher rate. \n",
        "\n",
        "print(df.groupby('race').size())"
      ],
      "execution_count": null,
      "outputs": [
        {
          "output_type": "stream",
          "text": [
            "race\n",
            "Asian                83\n",
            "Black              1184\n",
            "Hispanic            801\n",
            "Native American      71\n",
            "Other                43\n",
            "White              2292\n",
            "dtype: int64\n"
          ],
          "name": "stdout"
        }
      ]
    },
    {
      "cell_type": "markdown",
      "metadata": {
        "id": "yqq6JcE4wSzo"
      },
      "source": [
        "**I created a new data frame that displayed race, total_deaths in each race,  \ttotal race IAW the U.S census, and most importantly the\tdeath rates for each race. **"
      ]
    },
    {
      "cell_type": "code",
      "metadata": {
        "id": "Hcdt-mQzT5G1",
        "colab": {
          "base_uri": "https://localhost:8080/",
          "height": 195
        },
        "outputId": "b8ee9751-b0d4-46e5-9689-9b513518c423"
      },
      "source": [
        " # create a new data frame that displays race, total_deaths in each race, total race IAW the U.S census, and the death rates for each race. \n",
        "black = []\n",
        "white = []\n",
        "hispanic = []\n",
        "asian = []\n",
        "native_american = []\n",
        "other = []\n",
        "for race in df['race']:\n",
        "    if race == 'Black':\n",
        "        black.append(race)\n",
        "    elif race =='White':\n",
        "        white.append(race)\n",
        "    elif race =='Hispanic':\n",
        "        hispanic.append(race)\n",
        "    elif race =='Native American':\n",
        "        native_american.append(race)\n",
        "    elif race =='Other':\n",
        "        other.append(race)\n",
        "    elif race =='Asian':\n",
        "        asian.append(race)\n",
        "\n",
        "black_total = len(black)\n",
        "white_total = len(white)\n",
        "hispanic_total = len(hispanic)\n",
        "asian_total = len(asian)\n",
        "native_american_total = len(native_american)\n",
        "other_total = len(other)\n",
        "\n",
        "dict_1 = {'Black': black_total, \n",
        "          'White': white_total, \n",
        "          'Hispanic':hispanic_total,\n",
        "         'Asian': asian_total,\n",
        "         'Native American': native_american_total,\n",
        "         'Other': other_total}\n",
        "\n",
        "\n",
        "\n",
        "df2 = pd.DataFrame(list(dict_1.items())) \n",
        "df2.columns = ['race', 'total_deaths']\n",
        "df2.head(5)\n",
        "    "
      ],
      "execution_count": null,
      "outputs": [
        {
          "output_type": "execute_result",
          "data": {
            "text/html": [
              "<div>\n",
              "<style scoped>\n",
              "    .dataframe tbody tr th:only-of-type {\n",
              "        vertical-align: middle;\n",
              "    }\n",
              "\n",
              "    .dataframe tbody tr th {\n",
              "        vertical-align: top;\n",
              "    }\n",
              "\n",
              "    .dataframe thead th {\n",
              "        text-align: right;\n",
              "    }\n",
              "</style>\n",
              "<table border=\"1\" class=\"dataframe\">\n",
              "  <thead>\n",
              "    <tr style=\"text-align: right;\">\n",
              "      <th></th>\n",
              "      <th>race</th>\n",
              "      <th>total_deaths</th>\n",
              "    </tr>\n",
              "  </thead>\n",
              "  <tbody>\n",
              "    <tr>\n",
              "      <th>0</th>\n",
              "      <td>Black</td>\n",
              "      <td>1184</td>\n",
              "    </tr>\n",
              "    <tr>\n",
              "      <th>1</th>\n",
              "      <td>White</td>\n",
              "      <td>2292</td>\n",
              "    </tr>\n",
              "    <tr>\n",
              "      <th>2</th>\n",
              "      <td>Hispanic</td>\n",
              "      <td>801</td>\n",
              "    </tr>\n",
              "    <tr>\n",
              "      <th>3</th>\n",
              "      <td>Asian</td>\n",
              "      <td>83</td>\n",
              "    </tr>\n",
              "    <tr>\n",
              "      <th>4</th>\n",
              "      <td>Native American</td>\n",
              "      <td>71</td>\n",
              "    </tr>\n",
              "  </tbody>\n",
              "</table>\n",
              "</div>"
            ],
            "text/plain": [
              "              race  total_deaths\n",
              "0            Black          1184\n",
              "1            White          2292\n",
              "2         Hispanic           801\n",
              "3            Asian            83\n",
              "4  Native American            71"
            ]
          },
          "metadata": {
            "tags": []
          },
          "execution_count": 84
        }
      ]
    },
    {
      "cell_type": "markdown",
      "metadata": {
        "id": "sFfpuwo7xjV8"
      },
      "source": [
        "**For the total race column, I used information from the national census (https://www.census.gov/quickfacts/fact/table/US/PST045219), which I used to calculate the total population for each racial group. **"
      ]
    },
    {
      "cell_type": "code",
      "metadata": {
        "id": "K8aIc_MAT-Di",
        "colab": {
          "base_uri": "https://localhost:8080/",
          "height": 34
        },
        "outputId": "f4c5f810-fc8e-4438-980c-5ab03df7844b"
      },
      "source": [
        "# Create a new series that lists the population of each racial group in the U.S according to the.. \n",
        "#..census data for total U.S population and race (https://www.census.gov/quickfacts/fact/table/US/PST045219). \n",
        "# This series will be added to our new data frame (df2)\n",
        "\n",
        "total_population = 328239523             \n",
        "total_white = total_population * 0.763\n",
        "total_black = total_population *0.134\n",
        "total_hispanic = total_population * 0.185\n",
        "total_asian = total_population * 0.0590\n",
        "total_native_american = total_population * 0.0130\n",
        "total_other = total_population * 0.030\n",
        "\n",
        "print(f'total whites {total_white}, total blacks {total_black}, total hispanic {total_hispanic}, total_asian {total_asian},total native american {total_native_american}, total_other {total_other}')\n"
      ],
      "execution_count": null,
      "outputs": [
        {
          "output_type": "stream",
          "text": [
            "total whites 250446756.049, total blacks 43984096.082, total hispanic 60724311.755, total_asian 19366131.857,total native american 4267113.799, total_other 9847185.69\n"
          ],
          "name": "stdout"
        }
      ]
    },
    {
      "cell_type": "code",
      "metadata": {
        "id": "u0CI8jEUUGCF",
        "colab": {
          "base_uri": "https://localhost:8080/",
          "height": 225
        },
        "outputId": "7780c18b-61ad-40fc-f4cf-26da4871bf2c"
      },
      "source": [
        "total_race = [43984096.082, 250446756.049, 60724311.755, 19366131.857, 4267113.799, 9847185.69] \n",
        "  \n",
        "df2['total_race'] = total_race \n",
        "df2.round({'total_race': 5})\n",
        "df2['total_deaths'] = df2['total_deaths'].astype('int64')\n",
        "df2['total_race'] = df2['total_race'].astype('int64')\n",
        "df2"
      ],
      "execution_count": null,
      "outputs": [
        {
          "output_type": "execute_result",
          "data": {
            "text/html": [
              "<div>\n",
              "<style scoped>\n",
              "    .dataframe tbody tr th:only-of-type {\n",
              "        vertical-align: middle;\n",
              "    }\n",
              "\n",
              "    .dataframe tbody tr th {\n",
              "        vertical-align: top;\n",
              "    }\n",
              "\n",
              "    .dataframe thead th {\n",
              "        text-align: right;\n",
              "    }\n",
              "</style>\n",
              "<table border=\"1\" class=\"dataframe\">\n",
              "  <thead>\n",
              "    <tr style=\"text-align: right;\">\n",
              "      <th></th>\n",
              "      <th>race</th>\n",
              "      <th>total_deaths</th>\n",
              "      <th>total_race</th>\n",
              "    </tr>\n",
              "  </thead>\n",
              "  <tbody>\n",
              "    <tr>\n",
              "      <th>0</th>\n",
              "      <td>Black</td>\n",
              "      <td>1184</td>\n",
              "      <td>43984096</td>\n",
              "    </tr>\n",
              "    <tr>\n",
              "      <th>1</th>\n",
              "      <td>White</td>\n",
              "      <td>2292</td>\n",
              "      <td>250446756</td>\n",
              "    </tr>\n",
              "    <tr>\n",
              "      <th>2</th>\n",
              "      <td>Hispanic</td>\n",
              "      <td>801</td>\n",
              "      <td>60724311</td>\n",
              "    </tr>\n",
              "    <tr>\n",
              "      <th>3</th>\n",
              "      <td>Asian</td>\n",
              "      <td>83</td>\n",
              "      <td>19366131</td>\n",
              "    </tr>\n",
              "    <tr>\n",
              "      <th>4</th>\n",
              "      <td>Native American</td>\n",
              "      <td>71</td>\n",
              "      <td>4267113</td>\n",
              "    </tr>\n",
              "    <tr>\n",
              "      <th>5</th>\n",
              "      <td>Other</td>\n",
              "      <td>43</td>\n",
              "      <td>9847185</td>\n",
              "    </tr>\n",
              "  </tbody>\n",
              "</table>\n",
              "</div>"
            ],
            "text/plain": [
              "              race  total_deaths  total_race\n",
              "0            Black          1184    43984096\n",
              "1            White          2292   250446756\n",
              "2         Hispanic           801    60724311\n",
              "3            Asian            83    19366131\n",
              "4  Native American            71     4267113\n",
              "5            Other            43     9847185"
            ]
          },
          "metadata": {
            "tags": []
          },
          "execution_count": 86
        }
      ]
    },
    {
      "cell_type": "code",
      "metadata": {
        "id": "sPe4gxLpUOhJ",
        "colab": {
          "base_uri": "https://localhost:8080/",
          "height": 225
        },
        "outputId": "88cd4120-2e90-4536-fe24-aa8e08ec3d64"
      },
      "source": [
        "df2['deaths_per_race']=df2['total_deaths'] / df2['total_race']   \n",
        "df2"
      ],
      "execution_count": null,
      "outputs": [
        {
          "output_type": "execute_result",
          "data": {
            "text/html": [
              "<div>\n",
              "<style scoped>\n",
              "    .dataframe tbody tr th:only-of-type {\n",
              "        vertical-align: middle;\n",
              "    }\n",
              "\n",
              "    .dataframe tbody tr th {\n",
              "        vertical-align: top;\n",
              "    }\n",
              "\n",
              "    .dataframe thead th {\n",
              "        text-align: right;\n",
              "    }\n",
              "</style>\n",
              "<table border=\"1\" class=\"dataframe\">\n",
              "  <thead>\n",
              "    <tr style=\"text-align: right;\">\n",
              "      <th></th>\n",
              "      <th>race</th>\n",
              "      <th>total_deaths</th>\n",
              "      <th>total_race</th>\n",
              "      <th>deaths_per_race</th>\n",
              "    </tr>\n",
              "  </thead>\n",
              "  <tbody>\n",
              "    <tr>\n",
              "      <th>0</th>\n",
              "      <td>Black</td>\n",
              "      <td>1184</td>\n",
              "      <td>43984096</td>\n",
              "      <td>0.000027</td>\n",
              "    </tr>\n",
              "    <tr>\n",
              "      <th>1</th>\n",
              "      <td>White</td>\n",
              "      <td>2292</td>\n",
              "      <td>250446756</td>\n",
              "      <td>0.000009</td>\n",
              "    </tr>\n",
              "    <tr>\n",
              "      <th>2</th>\n",
              "      <td>Hispanic</td>\n",
              "      <td>801</td>\n",
              "      <td>60724311</td>\n",
              "      <td>0.000013</td>\n",
              "    </tr>\n",
              "    <tr>\n",
              "      <th>3</th>\n",
              "      <td>Asian</td>\n",
              "      <td>83</td>\n",
              "      <td>19366131</td>\n",
              "      <td>0.000004</td>\n",
              "    </tr>\n",
              "    <tr>\n",
              "      <th>4</th>\n",
              "      <td>Native American</td>\n",
              "      <td>71</td>\n",
              "      <td>4267113</td>\n",
              "      <td>0.000017</td>\n",
              "    </tr>\n",
              "    <tr>\n",
              "      <th>5</th>\n",
              "      <td>Other</td>\n",
              "      <td>43</td>\n",
              "      <td>9847185</td>\n",
              "      <td>0.000004</td>\n",
              "    </tr>\n",
              "  </tbody>\n",
              "</table>\n",
              "</div>"
            ],
            "text/plain": [
              "              race  total_deaths  total_race  deaths_per_race\n",
              "0            Black          1184    43984096         0.000027\n",
              "1            White          2292   250446756         0.000009\n",
              "2         Hispanic           801    60724311         0.000013\n",
              "3            Asian            83    19366131         0.000004\n",
              "4  Native American            71     4267113         0.000017\n",
              "5            Other            43     9847185         0.000004"
            ]
          },
          "metadata": {
            "tags": []
          },
          "execution_count": 87
        }
      ]
    },
    {
      "cell_type": "code",
      "metadata": {
        "id": "VbD1FIDNUS-6",
        "colab": {
          "base_uri": "https://localhost:8080/",
          "height": 225
        },
        "outputId": "ff256322-74b1-4cd8-a2f5-3eeb7f016065"
      },
      "source": [
        "df2['death rate']=df2['deaths_per_race'] *(10**6)\n",
        "df2"
      ],
      "execution_count": null,
      "outputs": [
        {
          "output_type": "execute_result",
          "data": {
            "text/html": [
              "<div>\n",
              "<style scoped>\n",
              "    .dataframe tbody tr th:only-of-type {\n",
              "        vertical-align: middle;\n",
              "    }\n",
              "\n",
              "    .dataframe tbody tr th {\n",
              "        vertical-align: top;\n",
              "    }\n",
              "\n",
              "    .dataframe thead th {\n",
              "        text-align: right;\n",
              "    }\n",
              "</style>\n",
              "<table border=\"1\" class=\"dataframe\">\n",
              "  <thead>\n",
              "    <tr style=\"text-align: right;\">\n",
              "      <th></th>\n",
              "      <th>race</th>\n",
              "      <th>total_deaths</th>\n",
              "      <th>total_race</th>\n",
              "      <th>deaths_per_race</th>\n",
              "      <th>death rate</th>\n",
              "    </tr>\n",
              "  </thead>\n",
              "  <tbody>\n",
              "    <tr>\n",
              "      <th>0</th>\n",
              "      <td>Black</td>\n",
              "      <td>1184</td>\n",
              "      <td>43984096</td>\n",
              "      <td>0.000027</td>\n",
              "      <td>26.918821</td>\n",
              "    </tr>\n",
              "    <tr>\n",
              "      <th>1</th>\n",
              "      <td>White</td>\n",
              "      <td>2292</td>\n",
              "      <td>250446756</td>\n",
              "      <td>0.000009</td>\n",
              "      <td>9.151646</td>\n",
              "    </tr>\n",
              "    <tr>\n",
              "      <th>2</th>\n",
              "      <td>Hispanic</td>\n",
              "      <td>801</td>\n",
              "      <td>60724311</td>\n",
              "      <td>0.000013</td>\n",
              "      <td>13.190763</td>\n",
              "    </tr>\n",
              "    <tr>\n",
              "      <th>3</th>\n",
              "      <td>Asian</td>\n",
              "      <td>83</td>\n",
              "      <td>19366131</td>\n",
              "      <td>0.000004</td>\n",
              "      <td>4.285833</td>\n",
              "    </tr>\n",
              "    <tr>\n",
              "      <th>4</th>\n",
              "      <td>Native American</td>\n",
              "      <td>71</td>\n",
              "      <td>4267113</td>\n",
              "      <td>0.000017</td>\n",
              "      <td>16.638884</td>\n",
              "    </tr>\n",
              "    <tr>\n",
              "      <th>5</th>\n",
              "      <td>Other</td>\n",
              "      <td>43</td>\n",
              "      <td>9847185</td>\n",
              "      <td>0.000004</td>\n",
              "      <td>4.366730</td>\n",
              "    </tr>\n",
              "  </tbody>\n",
              "</table>\n",
              "</div>"
            ],
            "text/plain": [
              "              race  total_deaths  total_race  deaths_per_race  death rate\n",
              "0            Black          1184    43984096         0.000027   26.918821\n",
              "1            White          2292   250446756         0.000009    9.151646\n",
              "2         Hispanic           801    60724311         0.000013   13.190763\n",
              "3            Asian            83    19366131         0.000004    4.285833\n",
              "4  Native American            71     4267113         0.000017   16.638884\n",
              "5            Other            43     9847185         0.000004    4.366730"
            ]
          },
          "metadata": {
            "tags": []
          },
          "execution_count": 88
        }
      ]
    },
    {
      "cell_type": "markdown",
      "metadata": {
        "id": "AWGyY1Gqyck1"
      },
      "source": [
        "**With this new data frame (df2) I can now plot a visual indicating the death rates between each racial group. **"
      ]
    },
    {
      "cell_type": "markdown",
      "metadata": {
        "id": "ZTUDCs_ly09s"
      },
      "source": [
        "**As the barcharts below indicate, between 2015 and 2020, whites appeared to suffer the most deaths from police shootings. But this doesn't indicate which group is getting killed at the highest rate.  **"
      ]
    },
    {
      "cell_type": "code",
      "metadata": {
        "id": "CWRPWDHSUYPd",
        "colab": {
          "base_uri": "https://localhost:8080/",
          "height": 503
        },
        "outputId": "3ee8a40e-7004-4e67-82fc-ae1acd384b0e"
      },
      "source": [
        "# Total deaths in each racial group between 2015 and 2020 \n",
        "# At first apperanc it appears more white are killed, but they are a majority of the U.S popoluation\n",
        "f, ax = plt.subplots(figsize=(6, 6))\n",
        "ax = sns.countplot(x='race', data=df)\n",
        "plt.text(x=1.0, y=2500.0, s='Deaths and Race', fontsize=16, weight='bold')\n",
        "plt.text(x=1.5, y=2400.0, s='2015-2020', fontsize=12, weight='bold')\n",
        "ax.set_xticklabels(ax.get_xticklabels(), rotation=45, horizontalalignment='right');"
      ],
      "execution_count": null,
      "outputs": [
        {
          "output_type": "display_data",
          "data": {
            "image/png": "[encoded data removed]",
            "text/plain": [
              "<Figure size 432x432 with 1 Axes>"
            ]
          },
          "metadata": {
            "tags": []
          }
        }
      ]
    },
    {
      "cell_type": "markdown",
      "metadata": {
        "id": "GZ1wP0-BzEMf"
      },
      "source": [
        "**Using the df2 data frame, the barcharts below indicate a different plot where between 2015 and 2020, although more whites died, blacks died at a higher rate followed by native americans and hispanics. **"
      ]
    },
    {
      "cell_type": "code",
      "metadata": {
        "id": "B7x59S52Udf4",
        "colab": {
          "base_uri": "https://localhost:8080/",
          "height": 499
        },
        "outputId": "6c0862f6-3c08-484c-acd2-86369da5b5b2"
      },
      "source": [
        "#Using our new data frame (df2) we can observe the deaths per mmillion for each racial group in the U.S. \n",
        "# blacks are killed at the highest rates at 27 deaths per 1 million\n",
        "# they are followed by Native Americans with 17 deaths per million, hispanics at 13 deaths per million and.. \n",
        "# ..whites at 9 deaths per million\n",
        "ax = sns.barplot(x = 'race', y = 'death rate', data = df2)\n",
        "plt.text(x=1.0, y=29.0, s='Death rates and Race', fontsize=16, weight='bold')\n",
        "plt.text(x=1.8, y=27.0, s='2015-2020', fontsize=12, weight='bold')\n",
        "ax.set_xticklabels(ax.get_xticklabels(), rotation=45, horizontalalignment='right');"
      ],
      "execution_count": null,
      "outputs": [
        {
          "output_type": "display_data",
          "data": {
            "image/png": "[encoded data removed]",
            "text/plain": [
              "<Figure size 576x432 with 1 Axes>"
            ]
          },
          "metadata": {
            "tags": []
          }
        }
      ]
    },
    {
      "cell_type": "markdown",
      "metadata": {
        "id": "8TdJkuGZUnsC"
      },
      "source": [
        "# **13. Weapons:**  \n",
        "\n",
        "The common weapons yielded by suspects were:\n",
        "\n",
        "gun-49% \n",
        "\n",
        "knife-13%\n",
        "\n",
        "unarmed-6%\n",
        "\n",
        "toy weapon-3 % \n",
        "\n",
        "The remaining 29% involved weapons including swords, machetes, tasers, and air conditioners."
      ]
    },
    {
      "cell_type": "code",
      "metadata": {
        "id": "XKAySkE0Uqnn",
        "colab": {
          "base_uri": "https://localhost:8080/",
          "height": 977
        },
        "outputId": "d49991aa-16c1-410b-f084-f341a994ca3a"
      },
      "source": [
        "f, ax = plt.subplots(figsize=(16, 16))\n",
        "ax = sns.countplot(y='armed', data=df)\n",
        "plt.text(x=-20.0, y=-1.0, s='Armed or Unarmed', fontsize=16, weight='bold')"
      ],
      "execution_count": null,
      "outputs": [
        {
          "output_type": "execute_result",
          "data": {
            "text/plain": [
              "Text(-20.0, -1.0, 'Armed or Unarmed')"
            ]
          },
          "metadata": {
            "tags": []
          },
          "execution_count": 91
        },
        {
          "output_type": "display_data",
          "data": {
            "image/png": "[encoded data removed]",
            "text/plain": [
              "<Figure size 1152x1152 with 1 Axes>"
            ]
          },
          "metadata": {
            "tags": []
          }
        }
      ]
    },
    {
      "cell_type": "markdown",
      "metadata": {
        "id": "2M3iYH9KUzDf"
      },
      "source": [
        "# **14. FLEEING VS NON FLEEING:** \n",
        "\n",
        "The non-fleeing suspects were killed at higher rates. \n",
        "\n",
        "67% deaths from non-fleeing \n",
        "\n",
        "33% deaths from fleeing"
      ]
    },
    {
      "cell_type": "code",
      "metadata": {
        "id": "1FGqvqlTU3VX",
        "colab": {
          "base_uri": "https://localhost:8080/",
          "height": 433
        },
        "outputId": "74114484-dd36-49cd-d715-954c65ad91eb"
      },
      "source": [
        "target = \"flee\"\n",
        "figure()\n",
        "width=12\n",
        "height=6\n",
        "figure(figsize=(width,height))\n",
        "sns.countplot(data=df,x=target)\n",
        "plt.text(x=1.0, y=3200.0, s='Fleeing or Not Fleeing', fontsize=16, weight='bold')\n",
        "show();"
      ],
      "execution_count": null,
      "outputs": [
        {
          "output_type": "display_data",
          "data": {
            "text/plain": [
              "<Figure size 576x432 with 0 Axes>"
            ]
          },
          "metadata": {
            "tags": []
          }
        },
        {
          "output_type": "display_data",
          "data": {
            "image/png": "[encoded data removed]",
            "text/plain": [
              "<Figure size 864x432 with 1 Axes>"
            ]
          },
          "metadata": {
            "tags": []
          }
        }
      ]
    },
    {
      "cell_type": "markdown",
      "metadata": {
        "id": "t5VO1quy1Wmw"
      },
      "source": [
        "# **15. Armed/Unarmed and Race**\n",
        "\n",
        "**The highest death rates involved a gun, knife, unarmed, or a toy weapon. I want to further examine the correlation between being armed or unarmed and the suspect either fleeing or not fleeing from the police officer. I created another new dataframe to explore this. **"
      ]
    },
    {
      "cell_type": "code",
      "metadata": {
        "id": "mgwfjpC-U97S",
        "colab": {
          "base_uri": "https://localhost:8080/",
          "height": 195
        },
        "outputId": "b7965ffa-fe88-4f11-f19d-571f08e6c72d"
      },
      "source": [
        "# The highest death rates involved a gun, knife, unarmed, or a toy weapon. Let's make a new data frame to examine the..\n",
        "#..the fleeing and non-fleeing subjects and the weapons involved. \n",
        "df_gun = df[['armed', 'flee']].copy()\n",
        "df_gun.head(5)"
      ],
      "execution_count": null,
      "outputs": [
        {
          "output_type": "execute_result",
          "data": {
            "text/html": [
              "<div>\n",
              "<style scoped>\n",
              "    .dataframe tbody tr th:only-of-type {\n",
              "        vertical-align: middle;\n",
              "    }\n",
              "\n",
              "    .dataframe tbody tr th {\n",
              "        vertical-align: top;\n",
              "    }\n",
              "\n",
              "    .dataframe thead th {\n",
              "        text-align: right;\n",
              "    }\n",
              "</style>\n",
              "<table border=\"1\" class=\"dataframe\">\n",
              "  <thead>\n",
              "    <tr style=\"text-align: right;\">\n",
              "      <th></th>\n",
              "      <th>armed</th>\n",
              "      <th>flee</th>\n",
              "    </tr>\n",
              "  </thead>\n",
              "  <tbody>\n",
              "    <tr>\n",
              "      <th>0</th>\n",
              "      <td>gun</td>\n",
              "      <td>Not fleeing</td>\n",
              "    </tr>\n",
              "    <tr>\n",
              "      <th>1</th>\n",
              "      <td>gun</td>\n",
              "      <td>Not fleeing</td>\n",
              "    </tr>\n",
              "    <tr>\n",
              "      <th>2</th>\n",
              "      <td>unarmed</td>\n",
              "      <td>Not fleeing</td>\n",
              "    </tr>\n",
              "    <tr>\n",
              "      <th>3</th>\n",
              "      <td>toy weapon</td>\n",
              "      <td>Not fleeing</td>\n",
              "    </tr>\n",
              "    <tr>\n",
              "      <th>4</th>\n",
              "      <td>nail gun</td>\n",
              "      <td>Not fleeing</td>\n",
              "    </tr>\n",
              "  </tbody>\n",
              "</table>\n",
              "</div>"
            ],
            "text/plain": [
              "        armed         flee\n",
              "0         gun  Not fleeing\n",
              "1         gun  Not fleeing\n",
              "2     unarmed  Not fleeing\n",
              "3  toy weapon  Not fleeing\n",
              "4    nail gun  Not fleeing"
            ]
          },
          "metadata": {
            "tags": []
          },
          "execution_count": 93
        }
      ]
    },
    {
      "cell_type": "code",
      "metadata": {
        "id": "xaIFKpHSVAdH",
        "colab": {
          "base_uri": "https://localhost:8080/",
          "height": 195
        },
        "outputId": "b85c8975-dfdb-492f-d3bf-db09370a8a8e"
      },
      "source": [
        "df_gun2 = df_gun.loc[(df_gun['armed']=='gun')  | (df_gun['armed']=='unarmed') | (df_gun['armed']=='knife') | (df_gun['armed']=='toy weapon')]\n",
        "df_gun2.head()  "
      ],
      "execution_count": null,
      "outputs": [
        {
          "output_type": "execute_result",
          "data": {
            "text/html": [
              "<div>\n",
              "<style scoped>\n",
              "    .dataframe tbody tr th:only-of-type {\n",
              "        vertical-align: middle;\n",
              "    }\n",
              "\n",
              "    .dataframe tbody tr th {\n",
              "        vertical-align: top;\n",
              "    }\n",
              "\n",
              "    .dataframe thead th {\n",
              "        text-align: right;\n",
              "    }\n",
              "</style>\n",
              "<table border=\"1\" class=\"dataframe\">\n",
              "  <thead>\n",
              "    <tr style=\"text-align: right;\">\n",
              "      <th></th>\n",
              "      <th>armed</th>\n",
              "      <th>flee</th>\n",
              "    </tr>\n",
              "  </thead>\n",
              "  <tbody>\n",
              "    <tr>\n",
              "      <th>0</th>\n",
              "      <td>gun</td>\n",
              "      <td>Not fleeing</td>\n",
              "    </tr>\n",
              "    <tr>\n",
              "      <th>1</th>\n",
              "      <td>gun</td>\n",
              "      <td>Not fleeing</td>\n",
              "    </tr>\n",
              "    <tr>\n",
              "      <th>2</th>\n",
              "      <td>unarmed</td>\n",
              "      <td>Not fleeing</td>\n",
              "    </tr>\n",
              "    <tr>\n",
              "      <th>3</th>\n",
              "      <td>toy weapon</td>\n",
              "      <td>Not fleeing</td>\n",
              "    </tr>\n",
              "    <tr>\n",
              "      <th>5</th>\n",
              "      <td>gun</td>\n",
              "      <td>Not fleeing</td>\n",
              "    </tr>\n",
              "  </tbody>\n",
              "</table>\n",
              "</div>"
            ],
            "text/plain": [
              "        armed         flee\n",
              "0         gun  Not fleeing\n",
              "1         gun  Not fleeing\n",
              "2     unarmed  Not fleeing\n",
              "3  toy weapon  Not fleeing\n",
              "5         gun  Not fleeing"
            ]
          },
          "metadata": {
            "tags": []
          },
          "execution_count": 94
        }
      ]
    },
    {
      "cell_type": "markdown",
      "metadata": {
        "id": "gdeenqWtVHSm"
      },
      "source": [
        "**For all different cases for fleeing (not fleeing, car, foot, and other) the most deaths involved the suspect having a firearm for each case. There is a clear link between high death rates and the presence of a firearm. **\n",
        "\n"
      ]
    },
    {
      "cell_type": "code",
      "metadata": {
        "id": "Zy4eS1_aVK6L",
        "colab": {
          "base_uri": "https://localhost:8080/",
          "height": 660
        },
        "outputId": "e1322975-406c-40bf-8907-c70b777a9293"
      },
      "source": [
        "f, ax = plt.subplots(figsize=(10, 10))\n",
        "ax = sns.countplot(y='flee', data=df_gun2, hue = 'armed')\n",
        "plt.text(x=1.0, y=-0.6, s='Fleeing Armed or Unarmed', fontsize=16, weight='bold')"
      ],
      "execution_count": null,
      "outputs": [
        {
          "output_type": "execute_result",
          "data": {
            "text/plain": [
              "Text(1.0, -0.6, 'Fleeing Armed or Unarmed')"
            ]
          },
          "metadata": {
            "tags": []
          },
          "execution_count": 95
        },
        {
          "output_type": "display_data",
          "data": {
            "image/png": "[encoded data removed]",
            "text/plain": [
              "<Figure size 720x720 with 1 Axes>"
            ]
          },
          "metadata": {
            "tags": []
          }
        }
      ]
    },
    {
      "cell_type": "markdown",
      "metadata": {
        "id": "YI69gE5Z2yuC"
      },
      "source": [
        "**I am now interested in how race plays into this observation, so I created another data frame to further explore this observation. **"
      ]
    },
    {
      "cell_type": "code",
      "metadata": {
        "id": "y4oaRvroVPV5",
        "colab": {
          "base_uri": "https://localhost:8080/",
          "height": 195
        },
        "outputId": "ef3193bb-c853-497c-8b9e-8c2cf6279822"
      },
      "source": [
        "# How race factor into this observation\n",
        "df_race = df[['armed', 'race']].copy()\n",
        "df_race.head()"
      ],
      "execution_count": null,
      "outputs": [
        {
          "output_type": "execute_result",
          "data": {
            "text/html": [
              "<div>\n",
              "<style scoped>\n",
              "    .dataframe tbody tr th:only-of-type {\n",
              "        vertical-align: middle;\n",
              "    }\n",
              "\n",
              "    .dataframe tbody tr th {\n",
              "        vertical-align: top;\n",
              "    }\n",
              "\n",
              "    .dataframe thead th {\n",
              "        text-align: right;\n",
              "    }\n",
              "</style>\n",
              "<table border=\"1\" class=\"dataframe\">\n",
              "  <thead>\n",
              "    <tr style=\"text-align: right;\">\n",
              "      <th></th>\n",
              "      <th>armed</th>\n",
              "      <th>race</th>\n",
              "    </tr>\n",
              "  </thead>\n",
              "  <tbody>\n",
              "    <tr>\n",
              "      <th>0</th>\n",
              "      <td>gun</td>\n",
              "      <td>Asian</td>\n",
              "    </tr>\n",
              "    <tr>\n",
              "      <th>1</th>\n",
              "      <td>gun</td>\n",
              "      <td>White</td>\n",
              "    </tr>\n",
              "    <tr>\n",
              "      <th>2</th>\n",
              "      <td>unarmed</td>\n",
              "      <td>Hispanic</td>\n",
              "    </tr>\n",
              "    <tr>\n",
              "      <th>3</th>\n",
              "      <td>toy weapon</td>\n",
              "      <td>White</td>\n",
              "    </tr>\n",
              "    <tr>\n",
              "      <th>4</th>\n",
              "      <td>nail gun</td>\n",
              "      <td>Hispanic</td>\n",
              "    </tr>\n",
              "  </tbody>\n",
              "</table>\n",
              "</div>"
            ],
            "text/plain": [
              "        armed      race\n",
              "0         gun     Asian\n",
              "1         gun     White\n",
              "2     unarmed  Hispanic\n",
              "3  toy weapon     White\n",
              "4    nail gun  Hispanic"
            ]
          },
          "metadata": {
            "tags": []
          },
          "execution_count": 96
        }
      ]
    },
    {
      "cell_type": "code",
      "metadata": {
        "id": "oBxdlNUcVTNQ",
        "colab": {
          "base_uri": "https://localhost:8080/",
          "height": 195
        },
        "outputId": "71e5327c-734d-4c90-8041-7bf2486e0e2f"
      },
      "source": [
        "df_race2 = df_race.loc[(df_race['armed']=='gun')  | (df_race['armed']=='unarmed') | (df_race['armed']=='knife') | (df_race['armed']=='toy weapon')]\n",
        "df_race2.head() "
      ],
      "execution_count": null,
      "outputs": [
        {
          "output_type": "execute_result",
          "data": {
            "text/html": [
              "<div>\n",
              "<style scoped>\n",
              "    .dataframe tbody tr th:only-of-type {\n",
              "        vertical-align: middle;\n",
              "    }\n",
              "\n",
              "    .dataframe tbody tr th {\n",
              "        vertical-align: top;\n",
              "    }\n",
              "\n",
              "    .dataframe thead th {\n",
              "        text-align: right;\n",
              "    }\n",
              "</style>\n",
              "<table border=\"1\" class=\"dataframe\">\n",
              "  <thead>\n",
              "    <tr style=\"text-align: right;\">\n",
              "      <th></th>\n",
              "      <th>armed</th>\n",
              "      <th>race</th>\n",
              "    </tr>\n",
              "  </thead>\n",
              "  <tbody>\n",
              "    <tr>\n",
              "      <th>0</th>\n",
              "      <td>gun</td>\n",
              "      <td>Asian</td>\n",
              "    </tr>\n",
              "    <tr>\n",
              "      <th>1</th>\n",
              "      <td>gun</td>\n",
              "      <td>White</td>\n",
              "    </tr>\n",
              "    <tr>\n",
              "      <th>2</th>\n",
              "      <td>unarmed</td>\n",
              "      <td>Hispanic</td>\n",
              "    </tr>\n",
              "    <tr>\n",
              "      <th>3</th>\n",
              "      <td>toy weapon</td>\n",
              "      <td>White</td>\n",
              "    </tr>\n",
              "    <tr>\n",
              "      <th>5</th>\n",
              "      <td>gun</td>\n",
              "      <td>White</td>\n",
              "    </tr>\n",
              "  </tbody>\n",
              "</table>\n",
              "</div>"
            ],
            "text/plain": [
              "        armed      race\n",
              "0         gun     Asian\n",
              "1         gun     White\n",
              "2     unarmed  Hispanic\n",
              "3  toy weapon     White\n",
              "5         gun     White"
            ]
          },
          "metadata": {
            "tags": []
          },
          "execution_count": 97
        }
      ]
    },
    {
      "cell_type": "code",
      "metadata": {
        "id": "dZvHl1CvVa70",
        "colab": {
          "base_uri": "https://localhost:8080/",
          "height": 134
        },
        "outputId": "8e764eb2-8247-499c-fab3-b7a7fac90445"
      },
      "source": [
        "df_race2['race'].value_counts()"
      ],
      "execution_count": null,
      "outputs": [
        {
          "output_type": "execute_result",
          "data": {
            "text/plain": [
              "White              1981\n",
              "Black              1016\n",
              "Hispanic            651\n",
              "Asian                67\n",
              "Native American      60\n",
              "Other                36\n",
              "Name: race, dtype: int64"
            ]
          },
          "metadata": {
            "tags": []
          },
          "execution_count": 98
        }
      ]
    },
    {
      "cell_type": "code",
      "metadata": {
        "id": "2gV2yyaXVcxx",
        "colab": {
          "base_uri": "https://localhost:8080/",
          "height": 653
        },
        "outputId": "b7be7b8f-3041-484f-a4f7-480718a129a0"
      },
      "source": [
        "# The highest death rates involved a firearm for each racial group\n",
        "f, ax = plt.subplots(figsize=(10, 10))\n",
        "ax = sns.countplot(x='race', data=df_race2, hue = 'armed')\n",
        "plt.text(x=1.0, y=1500.0, s='Race while Armed or Unarmed', fontsize=16, weight='bold')"
      ],
      "execution_count": null,
      "outputs": [
        {
          "output_type": "execute_result",
          "data": {
            "text/plain": [
              "Text(1.0, 1500.0, 'Race while Armed or Unarmed')"
            ]
          },
          "metadata": {
            "tags": []
          },
          "execution_count": 99
        },
        {
          "output_type": "display_data",
          "data": {
            "image/png": "[encoded data removed]",
            "text/plain": [
              "<Figure size 720x720 with 1 Axes>"
            ]
          },
          "metadata": {
            "tags": []
          }
        }
      ]
    },
    {
      "cell_type": "markdown",
      "metadata": {
        "id": "m86zY7SZ3Qg8"
      },
      "source": [
        "**Whites experienced the most deaths, when armed with a gun, a knife, or a toy weapon. Total deaths for whites while unarmed were close to the total deaths for unarmed blacks.** "
      ]
    },
    {
      "cell_type": "markdown",
      "metadata": {
        "id": "rmzZDtgWVrbw"
      },
      "source": [
        "# **16. Unarmed and Fleeing**\n",
        "\n",
        "Shooting an unarmed individual while they are fleeing on foot is highly suspect and may be indicative of a possible racial bias. I will examine the rates of each racial group getting killed while fleeing and unarmed with the creation of a new data frame. "
      ]
    },
    {
      "cell_type": "code",
      "metadata": {
        "id": "aAfIkryKVsyF",
        "colab": {
          "base_uri": "https://localhost:8080/",
          "height": 195
        },
        "outputId": "faee2adb-ba72-448e-ab2e-b8212914fd2e"
      },
      "source": [
        "df_flee_foot = df[['armed', 'flee', 'race']].copy()\n",
        "df_flee_foot.head(5)"
      ],
      "execution_count": null,
      "outputs": [
        {
          "output_type": "execute_result",
          "data": {
            "text/html": [
              "<div>\n",
              "<style scoped>\n",
              "    .dataframe tbody tr th:only-of-type {\n",
              "        vertical-align: middle;\n",
              "    }\n",
              "\n",
              "    .dataframe tbody tr th {\n",
              "        vertical-align: top;\n",
              "    }\n",
              "\n",
              "    .dataframe thead th {\n",
              "        text-align: right;\n",
              "    }\n",
              "</style>\n",
              "<table border=\"1\" class=\"dataframe\">\n",
              "  <thead>\n",
              "    <tr style=\"text-align: right;\">\n",
              "      <th></th>\n",
              "      <th>armed</th>\n",
              "      <th>flee</th>\n",
              "      <th>race</th>\n",
              "    </tr>\n",
              "  </thead>\n",
              "  <tbody>\n",
              "    <tr>\n",
              "      <th>0</th>\n",
              "      <td>gun</td>\n",
              "      <td>Not fleeing</td>\n",
              "      <td>Asian</td>\n",
              "    </tr>\n",
              "    <tr>\n",
              "      <th>1</th>\n",
              "      <td>gun</td>\n",
              "      <td>Not fleeing</td>\n",
              "      <td>White</td>\n",
              "    </tr>\n",
              "    <tr>\n",
              "      <th>2</th>\n",
              "      <td>unarmed</td>\n",
              "      <td>Not fleeing</td>\n",
              "      <td>Hispanic</td>\n",
              "    </tr>\n",
              "    <tr>\n",
              "      <th>3</th>\n",
              "      <td>toy weapon</td>\n",
              "      <td>Not fleeing</td>\n",
              "      <td>White</td>\n",
              "    </tr>\n",
              "    <tr>\n",
              "      <th>4</th>\n",
              "      <td>nail gun</td>\n",
              "      <td>Not fleeing</td>\n",
              "      <td>Hispanic</td>\n",
              "    </tr>\n",
              "  </tbody>\n",
              "</table>\n",
              "</div>"
            ],
            "text/plain": [
              "        armed         flee      race\n",
              "0         gun  Not fleeing     Asian\n",
              "1         gun  Not fleeing     White\n",
              "2     unarmed  Not fleeing  Hispanic\n",
              "3  toy weapon  Not fleeing     White\n",
              "4    nail gun  Not fleeing  Hispanic"
            ]
          },
          "metadata": {
            "tags": []
          },
          "execution_count": 100
        }
      ]
    },
    {
      "cell_type": "code",
      "metadata": {
        "id": "SUZ-ALS3Vvsu",
        "colab": {
          "base_uri": "https://localhost:8080/",
          "height": 195
        },
        "outputId": "06051f9a-fefb-41ca-f493-270743bd418c"
      },
      "source": [
        "df_flee_foot2= (df_flee_foot[df_flee_foot.flee == 'Foot'])\n",
        "df_flee_foot2.head(5)"
      ],
      "execution_count": null,
      "outputs": [
        {
          "output_type": "execute_result",
          "data": {
            "text/html": [
              "<div>\n",
              "<style scoped>\n",
              "    .dataframe tbody tr th:only-of-type {\n",
              "        vertical-align: middle;\n",
              "    }\n",
              "\n",
              "    .dataframe tbody tr th {\n",
              "        vertical-align: top;\n",
              "    }\n",
              "\n",
              "    .dataframe thead th {\n",
              "        text-align: right;\n",
              "    }\n",
              "</style>\n",
              "<table border=\"1\" class=\"dataframe\">\n",
              "  <thead>\n",
              "    <tr style=\"text-align: right;\">\n",
              "      <th></th>\n",
              "      <th>armed</th>\n",
              "      <th>flee</th>\n",
              "      <th>race</th>\n",
              "    </tr>\n",
              "  </thead>\n",
              "  <tbody>\n",
              "    <tr>\n",
              "      <th>14</th>\n",
              "      <td>gun</td>\n",
              "      <td>Foot</td>\n",
              "      <td>Black</td>\n",
              "    </tr>\n",
              "    <tr>\n",
              "      <th>23</th>\n",
              "      <td>gun</td>\n",
              "      <td>Foot</td>\n",
              "      <td>Hispanic</td>\n",
              "    </tr>\n",
              "    <tr>\n",
              "      <th>24</th>\n",
              "      <td>gun</td>\n",
              "      <td>Foot</td>\n",
              "      <td>White</td>\n",
              "    </tr>\n",
              "    <tr>\n",
              "      <th>32</th>\n",
              "      <td>gun</td>\n",
              "      <td>Foot</td>\n",
              "      <td>Black</td>\n",
              "    </tr>\n",
              "    <tr>\n",
              "      <th>39</th>\n",
              "      <td>gun</td>\n",
              "      <td>Foot</td>\n",
              "      <td>Black</td>\n",
              "    </tr>\n",
              "  </tbody>\n",
              "</table>\n",
              "</div>"
            ],
            "text/plain": [
              "   armed  flee      race\n",
              "14   gun  Foot     Black\n",
              "23   gun  Foot  Hispanic\n",
              "24   gun  Foot     White\n",
              "32   gun  Foot     Black\n",
              "39   gun  Foot     Black"
            ]
          },
          "metadata": {
            "tags": []
          },
          "execution_count": 101
        }
      ]
    },
    {
      "cell_type": "code",
      "metadata": {
        "id": "2_13E9abV3Eu",
        "colab": {
          "base_uri": "https://localhost:8080/",
          "height": 195
        },
        "outputId": "2a8378b4-ac4e-4a2b-f364-2f78d3072426"
      },
      "source": [
        "df_flee_foot2= (df_flee_foot2[df_flee_foot2.armed == 'unarmed']) \n",
        "df_flee_foot2.head(5)"
      ],
      "execution_count": null,
      "outputs": [
        {
          "output_type": "execute_result",
          "data": {
            "text/html": [
              "<div>\n",
              "<style scoped>\n",
              "    .dataframe tbody tr th:only-of-type {\n",
              "        vertical-align: middle;\n",
              "    }\n",
              "\n",
              "    .dataframe tbody tr th {\n",
              "        vertical-align: top;\n",
              "    }\n",
              "\n",
              "    .dataframe thead th {\n",
              "        text-align: right;\n",
              "    }\n",
              "</style>\n",
              "<table border=\"1\" class=\"dataframe\">\n",
              "  <thead>\n",
              "    <tr style=\"text-align: right;\">\n",
              "      <th></th>\n",
              "      <th>armed</th>\n",
              "      <th>flee</th>\n",
              "      <th>race</th>\n",
              "    </tr>\n",
              "  </thead>\n",
              "  <tbody>\n",
              "    <tr>\n",
              "      <th>72</th>\n",
              "      <td>unarmed</td>\n",
              "      <td>Foot</td>\n",
              "      <td>White</td>\n",
              "    </tr>\n",
              "    <tr>\n",
              "      <th>76</th>\n",
              "      <td>unarmed</td>\n",
              "      <td>Foot</td>\n",
              "      <td>White</td>\n",
              "    </tr>\n",
              "    <tr>\n",
              "      <th>102</th>\n",
              "      <td>unarmed</td>\n",
              "      <td>Foot</td>\n",
              "      <td>Hispanic</td>\n",
              "    </tr>\n",
              "    <tr>\n",
              "      <th>119</th>\n",
              "      <td>unarmed</td>\n",
              "      <td>Foot</td>\n",
              "      <td>White</td>\n",
              "    </tr>\n",
              "    <tr>\n",
              "      <th>164</th>\n",
              "      <td>unarmed</td>\n",
              "      <td>Foot</td>\n",
              "      <td>Black</td>\n",
              "    </tr>\n",
              "  </tbody>\n",
              "</table>\n",
              "</div>"
            ],
            "text/plain": [
              "       armed  flee      race\n",
              "72   unarmed  Foot     White\n",
              "76   unarmed  Foot     White\n",
              "102  unarmed  Foot  Hispanic\n",
              "119  unarmed  Foot     White\n",
              "164  unarmed  Foot     Black"
            ]
          },
          "metadata": {
            "tags": []
          },
          "execution_count": 102
        }
      ]
    },
    {
      "cell_type": "code",
      "metadata": {
        "id": "CER2-chlV6yp",
        "colab": {
          "base_uri": "https://localhost:8080/",
          "height": 134
        },
        "outputId": "2b1caba2-3830-4d09-9f5f-54f33bf8d4b5"
      },
      "source": [
        "df_flee_foot2['race'].value_counts()"
      ],
      "execution_count": null,
      "outputs": [
        {
          "output_type": "execute_result",
          "data": {
            "text/plain": [
              "Black              37\n",
              "White              24\n",
              "Hispanic           10\n",
              "Native American     2\n",
              "Other               1\n",
              "Asian               1\n",
              "Name: race, dtype: int64"
            ]
          },
          "metadata": {
            "tags": []
          },
          "execution_count": 103
        }
      ]
    },
    {
      "cell_type": "markdown",
      "metadata": {
        "id": "52XsXnq-WBG9"
      },
      "source": [
        "**The highest amount of deaths while fleeing on foot and unarmed occured with blacks which accounted for 49% of the deaths. The next highest deaths were with whites at 32% and hispanics at 13%**"
      ]
    },
    {
      "cell_type": "code",
      "metadata": {
        "id": "0pmhuAGXWDh1",
        "colab": {
          "base_uri": "https://localhost:8080/",
          "height": 663
        },
        "outputId": "a6d9e394-f156-44f6-f8e1-9a09d9b7bb76"
      },
      "source": [
        "f, ax = plt.subplots(figsize=(10, 10))\n",
        "ax = sns.countplot(x='race', data=df_flee_foot2, hue = 'race')\n",
        "plt.text(x=1.0, y=40.0, s='Deaths Fleeing and Unarmed', fontsize=16, weight='bold')"
      ],
      "execution_count": null,
      "outputs": [
        {
          "output_type": "execute_result",
          "data": {
            "text/plain": [
              "Text(1.0, 40.0, 'Deaths Fleeing and Unarmed')"
            ]
          },
          "metadata": {
            "tags": []
          },
          "execution_count": 104
        },
        {
          "output_type": "display_data",
          "data": {
            "image/png": "[encoded data removed]",
            "text/plain": [
              "<Figure size 720x720 with 1 Axes>"
            ]
          },
          "metadata": {
            "tags": []
          }
        }
      ]
    },
    {
      "cell_type": "markdown",
      "metadata": {
        "id": "fTl1TGRhWQ7n"
      },
      "source": [
        "# **17. Challenges Encountered**\n",
        "\n",
        "I spent some time trying to figure out how to create particular countplots for data that didn’t exist on the main dataset, ie. a countplot that displayed race and death rates. I also encountered an error whenever I tried to display this dataframe, and I could not find any error in my code. I ended up searching through forums including stack overflow and I found that I had to initiate this line of code (pip install \"pandas==1.0.3\" –user). This fixed the problem. Lastly, I had some issues deciding which visualizations would be most pragmatic for the mostly categorical data, and I found that countplots worked very well for this type of data. \n",
        "\n"
      ]
    },
    {
      "cell_type": "markdown",
      "metadata": {
        "id": "2gRO3DYVWTYH"
      },
      "source": [
        "# **18. Key insights derived from analysis:**\n",
        "\n",
        "*Younger people tended to get shot by more by the police (between about 20 and 40) for all races.\n",
        "\n",
        "*Disproportionally more men were shot by the police than females (96% for men and 4% for women)\n",
        "\n",
        "*24% of deaths involved the deceased having a history of mental health issues, expressing suicidal intentions or was experiencing mental distress at the time of the shooting.\n",
        "\n",
        "*88% of deaths for all subjects involved the officer not wearing a body worn camera. \n",
        "\n",
        "*Between 2015 and 2020, more whites were shot by the police, but blacks were killed at the highest rates by the police followed by Native Americans and Hispanics. \n",
        "\n",
        "*Regarding being armed, the most subjects killed had a gun, the second highest were armed with a knife, the third highest killed were unarmed, and the forth highest killed had toy weapons. \n",
        "\n",
        "*67% of deaths involved the subjects not fleeing from the police, and out of the subjects who were fleeing or not-fleeing, the ones who had a gun were killed the most. \n",
        "\n",
        "*For subjects fleeing on foot and unarmed, blacks had the highest amount of deaths at 49%. The next highest deaths were with whites at 32% and hispanics at 13%"
      ]
    },
    {
      "cell_type": "markdown",
      "metadata": {
        "id": "KRP0tzALB2Xr"
      },
      "source": [
        "# **19. Conclusion**\n",
        "\n",
        "My goal with this analysis was to identify factors that were involved with the deaths of citizens from police officers in the United States and identify any possible correlations or causal factors that lead to police shootings and how they relate to factors like race. I have identified some factors that appear to correlate with more deaths from police shootings. I noted that more deaths occurred with a younger population with more deaths occurring with younger minority groups. Males experienced more deaths than women, subjects with a mental illness actually experienced less deaths than those without a mental condition, and a majority of shootings occurred when officers were not wearing a body camera. The main issue regarding race and police shootings showed some interesting results. From 2015-2020, whites experienced the most deaths followed by blacks and Hispanics. However, blacks, Native Americans, and Hispanics experienced higher rates of deaths than whites. What the subjects were armed with seemed to play a huge factor in police shootings. Not surprisingly, those armed with a firearm experienced the most deaths for every racial group followed by those armed with knives. Clearly, a police officer has an obligation to eliminate a threat who can do harm to him or her and to bystanders, so the correlation between police deaths and the subjects being armed with a firearm is not so surprising. But with the high density of firearms in the United States, it may be possible that officers may treat all subjects as potentially having a firearm. Subjects who were unarmed and armed with toy weapons were the 3rd and 4th largest deaths from 2015-2020. More studies and analysis will need to be performed, but it may be possible that many officers default to subjects potentially having a firearm even though the subjects may be unarmed or have toys. We’ve seen evidence of this from news reports where subjects held objects like wallets or made sudden unexpected movements, mimicking someone who may possibly be \"reaching\" for a firearm. My final find was the most interesting to me. It involved examining police shootings of unarmed individuals who were fleeing on foot. The practice of shooting unarmed subjects while fleeing is highly controversial and it may possibly reveal potential bias in the eyes of officers. The highest amount of deaths while fleeing on foot and unarmed occurred with blacks followed by whites and Hispanics. From this analysis, my biggest take aways were there is clearly a link between the possession of firearms and deaths from police shootings and there appears to be indications of potential racial bias with the higher death rate for blacks and other minorities and the larger amount of shootings of unarmed blacks fleeing on foot. I think these findings are certainly not a final settlement, but they certainly warrant further study."
      ]
    }
  ]
}